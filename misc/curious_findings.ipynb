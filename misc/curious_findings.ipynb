{
 "cells": [
  {
   "cell_type": "code",
   "execution_count": 1,
   "metadata": {},
   "outputs": [],
   "source": [
    "import pandas as pd\n",
    "import json\n",
    "import requests\n",
    "from warcio import ArchiveIterator\n",
    "import os \n",
    "import numpy as np \n",
    "from multiprocessing import set_start_method\n",
    "from multiprocessing import get_context\n",
    "from multiprocessing import pool \n",
    "import multiprocessing\n",
    "from requests.adapters import HTTPAdapter\n",
    "from requests.packages import urllib3\n",
    "from requests.packages.urllib3.util.retry import Retry\n",
    "from tqdm import tqdm \n",
    "import pickle \n",
    "import re"
   ]
  },
  {
   "cell_type": "code",
   "execution_count": 2,
   "metadata": {},
   "outputs": [],
   "source": [
    "trial2 = pd.read_pickle('trial_28_02.pkl')"
   ]
  },
  {
   "cell_type": "code",
   "execution_count": 16,
   "metadata": {},
   "outputs": [
    {
     "data": {
      "text/plain": "981194"
     },
     "execution_count": 16,
     "metadata": {},
     "output_type": "execute_result"
    }
   ],
   "source": [
    "sys.getsizeof(trial2)"
   ]
  },
  {
   "cell_type": "markdown",
   "metadata": {},
   "source": [
    "# START HAVING A LOOK AT GETTING POSTCODES"
   ]
  },
  {
   "cell_type": "code",
   "execution_count": 88,
   "metadata": {},
   "outputs": [],
   "source": [
    "def postcode_finder(text):\n",
    "    postcodes = re.findall(r'([Gg][Ii][Rr] 0[Aa]{2})|((([A-Za-z][0-9]{1,2})|(([A-Za-z][A-Ha-hJ-Yj-y][0-9]{1,2})|(([A-Za-z][0-9][A-Za-z])|([A-Za-z][A-Ha-hJ-Yj-y][0-9][A-Za-z]?))))\\s?[0-9][A-Za-z]{2})', text)\n",
    "    return list(postcodes) "
   ]
  },
  {
   "cell_type": "code",
   "execution_count": 101,
   "metadata": {},
   "outputs": [],
   "source": [
    "text = 'E2 6DZ CB1 7ED'"
   ]
  },
  {
   "cell_type": "code",
   "execution_count": 89,
   "metadata": {},
   "outputs": [],
   "source": [
    "def lambda_postcode(df):\n",
    "    df['postcode'] = df.apply(lambda x: postcode_finder(x['text']), axis = 1)\n",
    "    return df "
   ]
  },
  {
   "cell_type": "code",
   "execution_count": 98,
   "metadata": {},
   "outputs": [],
   "source": [
    "def lambda_postcode(df):\n",
    "    df['postcode'] = df['text'].apply(lambda x: postcode_finder(x))\n",
    "    return df "
   ]
  },
  {
   "cell_type": "code",
   "execution_count": 5,
   "metadata": {},
   "outputs": [],
   "source": [
    "trial3= trial2.dropna(subset='text')"
   ]
  },
  {
   "cell_type": "code",
   "execution_count": 11,
   "metadata": {},
   "outputs": [],
   "source": [
    "def postcode_finder(text):\n",
    "    postcodes = re.findall(r'([Gg][Ii][Rr] 0[Aa]{2})|((([A-Za-z][0-9]{1,2})|(([A-Za-z][A-Ha-hJ-Yj-y][0-9]{1,2})|(([A-Za-z][0-9][A-Za-z])|([A-Za-z][A-Ha-hJ-Yj-y][0-9][A-Za-z]?))))\\s?[0-9][A-Za-z]{2})', text)\n",
    "    return list(postcodes) \n",
    "def postcode_counter_webpage(text):\n",
    "    postcodes = postcode_finder(text)\n",
    "    webpage_postcodes = [postcode[1] for postcode in postcodes]\n",
    "    dictionary_with_counts = {x:webpage_postcodes.count(x) for x in webpage_postcodes}\n",
    "    return dictionary_with_counts\n",
    "def lambda_counter_webpage(df):\n",
    "    df['postcode'] = df['text'].apply(lambda x: postcode_counter_webpage(x))\n",
    "    return df\n",
    "#sta prendendo text da giiu sotto, lol. "
   ]
  },
  {
   "cell_type": "code",
   "execution_count": 12,
   "metadata": {},
   "outputs": [],
   "source": [
    "trial4 = trial3[80:91]"
   ]
  },
  {
   "cell_type": "code",
   "execution_count": 13,
   "metadata": {},
   "outputs": [
    {
     "data": {
      "text/html": "<div>\n<style scoped>\n    .dataframe tbody tr th:only-of-type {\n        vertical-align: middle;\n    }\n\n    .dataframe tbody tr th {\n        vertical-align: top;\n    }\n\n    .dataframe thead th {\n        text-align: right;\n    }\n</style>\n<table border=\"1\" class=\"dataframe\">\n  <thead>\n    <tr style=\"text-align: right;\">\n      <th></th>\n      <th>url</th>\n      <th>url_host_name</th>\n      <th>url_host_registry_suffix</th>\n      <th>url_host_registered_domain</th>\n      <th>url_host_private_suffix</th>\n      <th>url_host_private_domain</th>\n      <th>fetch_time</th>\n      <th>fetch_status</th>\n      <th>fetch_redirect</th>\n      <th>content_mime_type</th>\n      <th>content_charset</th>\n      <th>content_languages</th>\n      <th>content_truncated</th>\n      <th>warc_filename</th>\n      <th>warc_record_offset</th>\n      <th>warc_record_length</th>\n      <th>warc_segment</th>\n      <th>needed_warc</th>\n      <th>text</th>\n    </tr>\n  </thead>\n  <tbody>\n    <tr>\n      <th>81</th>\n      <td>https://www.001-translations.co.uk/c_10/servic...</td>\n      <td>www.001-translations.co.uk</td>\n      <td>co.uk</td>\n      <td>001-translations.co.uk</td>\n      <td>co.uk</td>\n      <td>001-translations.co.uk</td>\n      <td>2022-08-14 01:13:40</td>\n      <td>200</td>\n      <td>None</td>\n      <td>text/html</td>\n      <td>UTF-8</td>\n      <td>eng</td>\n      <td>None</td>\n      <td>crawl-data/CC-MAIN-2022-33/segments/1659882571...</td>\n      <td>538045750</td>\n      <td>5104</td>\n      <td>1659882571989.67</td>\n      <td>https://data.commoncrawl.org/crawl-data/CC-MAI...</td>\n      <td>﻿ Website translation - 001 Translation UK\\n00...</td>\n    </tr>\n    <tr>\n      <th>82</th>\n      <td>https://www.001-translations.co.uk/c_132/conta...</td>\n      <td>www.001-translations.co.uk</td>\n      <td>co.uk</td>\n      <td>001-translations.co.uk</td>\n      <td>co.uk</td>\n      <td>001-translations.co.uk</td>\n      <td>2022-08-14 00:46:10</td>\n      <td>200</td>\n      <td>None</td>\n      <td>text/html</td>\n      <td>UTF-8</td>\n      <td>eng</td>\n      <td>None</td>\n      <td>crawl-data/CC-MAIN-2022-33/segments/1659882571...</td>\n      <td>571777495</td>\n      <td>4697</td>\n      <td>1659882571989.67</td>\n      <td>https://data.commoncrawl.org/crawl-data/CC-MAI...</td>\n      <td>﻿ Contact - 001 Translation UK\\n001 Translatio...</td>\n    </tr>\n    <tr>\n      <th>83</th>\n      <td>https://www.001-translations.co.uk/c_132/conta...</td>\n      <td>www.001-translations.co.uk</td>\n      <td>co.uk</td>\n      <td>001-translations.co.uk</td>\n      <td>co.uk</td>\n      <td>001-translations.co.uk</td>\n      <td>2022-08-14 00:02:57</td>\n      <td>200</td>\n      <td>None</td>\n      <td>text/html</td>\n      <td>UTF-8</td>\n      <td>eng</td>\n      <td>None</td>\n      <td>crawl-data/CC-MAIN-2022-33/segments/1659882571...</td>\n      <td>584262048</td>\n      <td>4862</td>\n      <td>1659882571989.67</td>\n      <td>https://data.commoncrawl.org/crawl-data/CC-MAI...</td>\n      <td>﻿ Contact - 001 Translation UK\\n001 Translatio...</td>\n    </tr>\n    <tr>\n      <th>84</th>\n      <td>https://www.001-translations.co.uk/c_132/conta...</td>\n      <td>www.001-translations.co.uk</td>\n      <td>co.uk</td>\n      <td>001-translations.co.uk</td>\n      <td>co.uk</td>\n      <td>001-translations.co.uk</td>\n      <td>2022-08-13 23:46:46</td>\n      <td>200</td>\n      <td>None</td>\n      <td>text/html</td>\n      <td>UTF-8</td>\n      <td>eng</td>\n      <td>None</td>\n      <td>crawl-data/CC-MAIN-2022-33/segments/1659882571...</td>\n      <td>563143726</td>\n      <td>4859</td>\n      <td>1659882571989.67</td>\n      <td>https://data.commoncrawl.org/crawl-data/CC-MAI...</td>\n      <td>﻿ Contact - 001 Translation UK\\n001 Translatio...</td>\n    </tr>\n    <tr>\n      <th>85</th>\n      <td>https://www.001-translations.co.uk/c_132/conta...</td>\n      <td>www.001-translations.co.uk</td>\n      <td>co.uk</td>\n      <td>001-translations.co.uk</td>\n      <td>co.uk</td>\n      <td>001-translations.co.uk</td>\n      <td>2022-08-14 00:25:27</td>\n      <td>200</td>\n      <td>None</td>\n      <td>text/html</td>\n      <td>UTF-8</td>\n      <td>eng</td>\n      <td>None</td>\n      <td>crawl-data/CC-MAIN-2022-33/segments/1659882571...</td>\n      <td>560176613</td>\n      <td>4859</td>\n      <td>1659882571989.67</td>\n      <td>https://data.commoncrawl.org/crawl-data/CC-MAI...</td>\n      <td>﻿ Contact - 001 Translation UK\\n001 Translatio...</td>\n    </tr>\n    <tr>\n      <th>86</th>\n      <td>https://www.001-translations.co.uk/c_132/conta...</td>\n      <td>www.001-translations.co.uk</td>\n      <td>co.uk</td>\n      <td>001-translations.co.uk</td>\n      <td>co.uk</td>\n      <td>001-translations.co.uk</td>\n      <td>2022-08-14 00:21:06</td>\n      <td>200</td>\n      <td>None</td>\n      <td>text/html</td>\n      <td>UTF-8</td>\n      <td>eng</td>\n      <td>None</td>\n      <td>crawl-data/CC-MAIN-2022-33/segments/1659882571...</td>\n      <td>581835915</td>\n      <td>4877</td>\n      <td>1659882571989.67</td>\n      <td>https://data.commoncrawl.org/crawl-data/CC-MAI...</td>\n      <td>﻿ Contact - 001 Translation UK\\n001 Translatio...</td>\n    </tr>\n    <tr>\n      <th>87</th>\n      <td>https://www.001-translations.co.uk/c_132/conta...</td>\n      <td>www.001-translations.co.uk</td>\n      <td>co.uk</td>\n      <td>001-translations.co.uk</td>\n      <td>co.uk</td>\n      <td>001-translations.co.uk</td>\n      <td>2022-08-14 00:58:23</td>\n      <td>200</td>\n      <td>None</td>\n      <td>text/html</td>\n      <td>UTF-8</td>\n      <td>eng</td>\n      <td>None</td>\n      <td>crawl-data/CC-MAIN-2022-33/segments/1659882571...</td>\n      <td>553357820</td>\n      <td>4862</td>\n      <td>1659882571989.67</td>\n      <td>https://data.commoncrawl.org/crawl-data/CC-MAI...</td>\n      <td>﻿ Contact - 001 Translation UK\\n001 Translatio...</td>\n    </tr>\n    <tr>\n      <th>88</th>\n      <td>https://www.001-translations.co.uk/c_132/conta...</td>\n      <td>www.001-translations.co.uk</td>\n      <td>co.uk</td>\n      <td>001-translations.co.uk</td>\n      <td>co.uk</td>\n      <td>001-translations.co.uk</td>\n      <td>2022-08-14 01:19:06</td>\n      <td>200</td>\n      <td>None</td>\n      <td>text/html</td>\n      <td>UTF-8</td>\n      <td>eng</td>\n      <td>None</td>\n      <td>crawl-data/CC-MAIN-2022-33/segments/1659882571...</td>\n      <td>580981523</td>\n      <td>4873</td>\n      <td>1659882571989.67</td>\n      <td>https://data.commoncrawl.org/crawl-data/CC-MAI...</td>\n      <td>﻿ Contact - 001 Translation UK\\n001 Translatio...</td>\n    </tr>\n    <tr>\n      <th>89</th>\n      <td>https://www.001-translations.co.uk/c_132/conta...</td>\n      <td>www.001-translations.co.uk</td>\n      <td>co.uk</td>\n      <td>001-translations.co.uk</td>\n      <td>co.uk</td>\n      <td>001-translations.co.uk</td>\n      <td>2022-08-14 00:11:15</td>\n      <td>200</td>\n      <td>None</td>\n      <td>text/html</td>\n      <td>UTF-8</td>\n      <td>eng</td>\n      <td>None</td>\n      <td>crawl-data/CC-MAIN-2022-33/segments/1659882571...</td>\n      <td>573095298</td>\n      <td>4866</td>\n      <td>1659882571989.67</td>\n      <td>https://data.commoncrawl.org/crawl-data/CC-MAI...</td>\n      <td>﻿ Contact - 001 Translation UK\\n001 Translatio...</td>\n    </tr>\n    <tr>\n      <th>90</th>\n      <td>https://www.001-translations.co.uk/c_132/conta...</td>\n      <td>www.001-translations.co.uk</td>\n      <td>co.uk</td>\n      <td>001-translations.co.uk</td>\n      <td>co.uk</td>\n      <td>001-translations.co.uk</td>\n      <td>2022-08-14 00:14:35</td>\n      <td>200</td>\n      <td>None</td>\n      <td>text/html</td>\n      <td>UTF-8</td>\n      <td>eng</td>\n      <td>None</td>\n      <td>crawl-data/CC-MAIN-2022-33/segments/1659882571...</td>\n      <td>559901207</td>\n      <td>4877</td>\n      <td>1659882571989.67</td>\n      <td>https://data.commoncrawl.org/crawl-data/CC-MAI...</td>\n      <td>﻿ Contact - 001 Translation UK\\n001 Translatio...</td>\n    </tr>\n    <tr>\n      <th>91</th>\n      <td>https://www.001-translations.co.uk/c_135/caree...</td>\n      <td>www.001-translations.co.uk</td>\n      <td>co.uk</td>\n      <td>001-translations.co.uk</td>\n      <td>co.uk</td>\n      <td>001-translations.co.uk</td>\n      <td>2022-08-14 00:05:13</td>\n      <td>200</td>\n      <td>None</td>\n      <td>text/html</td>\n      <td>UTF-8</td>\n      <td>eng</td>\n      <td>None</td>\n      <td>crawl-data/CC-MAIN-2022-33/segments/1659882571...</td>\n      <td>561594888</td>\n      <td>3320</td>\n      <td>1659882571989.67</td>\n      <td>https://data.commoncrawl.org/crawl-data/CC-MAI...</td>\n      <td>﻿ Careers - 001 Translation UK\\n001 Translatio...</td>\n    </tr>\n  </tbody>\n</table>\n</div>",
      "text/plain": "                                                  url  \\\n81  https://www.001-translations.co.uk/c_10/servic...   \n82  https://www.001-translations.co.uk/c_132/conta...   \n83  https://www.001-translations.co.uk/c_132/conta...   \n84  https://www.001-translations.co.uk/c_132/conta...   \n85  https://www.001-translations.co.uk/c_132/conta...   \n86  https://www.001-translations.co.uk/c_132/conta...   \n87  https://www.001-translations.co.uk/c_132/conta...   \n88  https://www.001-translations.co.uk/c_132/conta...   \n89  https://www.001-translations.co.uk/c_132/conta...   \n90  https://www.001-translations.co.uk/c_132/conta...   \n91  https://www.001-translations.co.uk/c_135/caree...   \n\n                 url_host_name url_host_registry_suffix  \\\n81  www.001-translations.co.uk                    co.uk   \n82  www.001-translations.co.uk                    co.uk   \n83  www.001-translations.co.uk                    co.uk   \n84  www.001-translations.co.uk                    co.uk   \n85  www.001-translations.co.uk                    co.uk   \n86  www.001-translations.co.uk                    co.uk   \n87  www.001-translations.co.uk                    co.uk   \n88  www.001-translations.co.uk                    co.uk   \n89  www.001-translations.co.uk                    co.uk   \n90  www.001-translations.co.uk                    co.uk   \n91  www.001-translations.co.uk                    co.uk   \n\n   url_host_registered_domain url_host_private_suffix url_host_private_domain  \\\n81     001-translations.co.uk                   co.uk  001-translations.co.uk   \n82     001-translations.co.uk                   co.uk  001-translations.co.uk   \n83     001-translations.co.uk                   co.uk  001-translations.co.uk   \n84     001-translations.co.uk                   co.uk  001-translations.co.uk   \n85     001-translations.co.uk                   co.uk  001-translations.co.uk   \n86     001-translations.co.uk                   co.uk  001-translations.co.uk   \n87     001-translations.co.uk                   co.uk  001-translations.co.uk   \n88     001-translations.co.uk                   co.uk  001-translations.co.uk   \n89     001-translations.co.uk                   co.uk  001-translations.co.uk   \n90     001-translations.co.uk                   co.uk  001-translations.co.uk   \n91     001-translations.co.uk                   co.uk  001-translations.co.uk   \n\n            fetch_time  fetch_status fetch_redirect content_mime_type  \\\n81 2022-08-14 01:13:40           200           None         text/html   \n82 2022-08-14 00:46:10           200           None         text/html   \n83 2022-08-14 00:02:57           200           None         text/html   \n84 2022-08-13 23:46:46           200           None         text/html   \n85 2022-08-14 00:25:27           200           None         text/html   \n86 2022-08-14 00:21:06           200           None         text/html   \n87 2022-08-14 00:58:23           200           None         text/html   \n88 2022-08-14 01:19:06           200           None         text/html   \n89 2022-08-14 00:11:15           200           None         text/html   \n90 2022-08-14 00:14:35           200           None         text/html   \n91 2022-08-14 00:05:13           200           None         text/html   \n\n   content_charset content_languages content_truncated  \\\n81           UTF-8               eng              None   \n82           UTF-8               eng              None   \n83           UTF-8               eng              None   \n84           UTF-8               eng              None   \n85           UTF-8               eng              None   \n86           UTF-8               eng              None   \n87           UTF-8               eng              None   \n88           UTF-8               eng              None   \n89           UTF-8               eng              None   \n90           UTF-8               eng              None   \n91           UTF-8               eng              None   \n\n                                        warc_filename  warc_record_offset  \\\n81  crawl-data/CC-MAIN-2022-33/segments/1659882571...           538045750   \n82  crawl-data/CC-MAIN-2022-33/segments/1659882571...           571777495   \n83  crawl-data/CC-MAIN-2022-33/segments/1659882571...           584262048   \n84  crawl-data/CC-MAIN-2022-33/segments/1659882571...           563143726   \n85  crawl-data/CC-MAIN-2022-33/segments/1659882571...           560176613   \n86  crawl-data/CC-MAIN-2022-33/segments/1659882571...           581835915   \n87  crawl-data/CC-MAIN-2022-33/segments/1659882571...           553357820   \n88  crawl-data/CC-MAIN-2022-33/segments/1659882571...           580981523   \n89  crawl-data/CC-MAIN-2022-33/segments/1659882571...           573095298   \n90  crawl-data/CC-MAIN-2022-33/segments/1659882571...           559901207   \n91  crawl-data/CC-MAIN-2022-33/segments/1659882571...           561594888   \n\n    warc_record_length      warc_segment  \\\n81                5104  1659882571989.67   \n82                4697  1659882571989.67   \n83                4862  1659882571989.67   \n84                4859  1659882571989.67   \n85                4859  1659882571989.67   \n86                4877  1659882571989.67   \n87                4862  1659882571989.67   \n88                4873  1659882571989.67   \n89                4866  1659882571989.67   \n90                4877  1659882571989.67   \n91                3320  1659882571989.67   \n\n                                          needed_warc  \\\n81  https://data.commoncrawl.org/crawl-data/CC-MAI...   \n82  https://data.commoncrawl.org/crawl-data/CC-MAI...   \n83  https://data.commoncrawl.org/crawl-data/CC-MAI...   \n84  https://data.commoncrawl.org/crawl-data/CC-MAI...   \n85  https://data.commoncrawl.org/crawl-data/CC-MAI...   \n86  https://data.commoncrawl.org/crawl-data/CC-MAI...   \n87  https://data.commoncrawl.org/crawl-data/CC-MAI...   \n88  https://data.commoncrawl.org/crawl-data/CC-MAI...   \n89  https://data.commoncrawl.org/crawl-data/CC-MAI...   \n90  https://data.commoncrawl.org/crawl-data/CC-MAI...   \n91  https://data.commoncrawl.org/crawl-data/CC-MAI...   \n\n                                                 text  \n81  ﻿ Website translation - 001 Translation UK\\n00...  \n82  ﻿ Contact - 001 Translation UK\\n001 Translatio...  \n83  ﻿ Contact - 001 Translation UK\\n001 Translatio...  \n84  ﻿ Contact - 001 Translation UK\\n001 Translatio...  \n85  ﻿ Contact - 001 Translation UK\\n001 Translatio...  \n86  ﻿ Contact - 001 Translation UK\\n001 Translatio...  \n87  ﻿ Contact - 001 Translation UK\\n001 Translatio...  \n88  ﻿ Contact - 001 Translation UK\\n001 Translatio...  \n89  ﻿ Contact - 001 Translation UK\\n001 Translatio...  \n90  ﻿ Contact - 001 Translation UK\\n001 Translatio...  \n91  ﻿ Careers - 001 Translation UK\\n001 Translatio...  "
     },
     "execution_count": 13,
     "metadata": {},
     "output_type": "execute_result"
    }
   ],
   "source": [
    "trial4"
   ]
  },
  {
   "cell_type": "code",
   "execution_count": 14,
   "metadata": {},
   "outputs": [
    {
     "name": "stderr",
     "output_type": "stream",
     "text": [
      "/var/folders/0f/pzhfvnbj63jg3sk3nj099q3w0000gq/T/ipykernel_33038/3855214437.py:10: SettingWithCopyWarning: \n",
      "A value is trying to be set on a copy of a slice from a DataFrame.\n",
      "Try using .loc[row_indexer,col_indexer] = value instead\n",
      "\n",
      "See the caveats in the documentation: https://pandas.pydata.org/pandas-docs/stable/user_guide/indexing.html#returning-a-view-versus-a-copy\n",
      "  df['postcode'] = df['text'].apply(lambda x: postcode_counter_webpage(x))\n"
     ]
    }
   ],
   "source": [
    "df = lambda_counter_webpage(trial4)"
   ]
  },
  {
   "cell_type": "code",
   "execution_count": 15,
   "metadata": {},
   "outputs": [
    {
     "data": {
      "text/html": "<div>\n<style scoped>\n    .dataframe tbody tr th:only-of-type {\n        vertical-align: middle;\n    }\n\n    .dataframe tbody tr th {\n        vertical-align: top;\n    }\n\n    .dataframe thead th {\n        text-align: right;\n    }\n</style>\n<table border=\"1\" class=\"dataframe\">\n  <thead>\n    <tr style=\"text-align: right;\">\n      <th></th>\n      <th>url</th>\n      <th>url_host_name</th>\n      <th>url_host_registry_suffix</th>\n      <th>url_host_registered_domain</th>\n      <th>url_host_private_suffix</th>\n      <th>url_host_private_domain</th>\n      <th>fetch_time</th>\n      <th>fetch_status</th>\n      <th>fetch_redirect</th>\n      <th>content_mime_type</th>\n      <th>content_charset</th>\n      <th>content_languages</th>\n      <th>content_truncated</th>\n      <th>warc_filename</th>\n      <th>warc_record_offset</th>\n      <th>warc_record_length</th>\n      <th>warc_segment</th>\n      <th>needed_warc</th>\n      <th>text</th>\n      <th>postcode</th>\n    </tr>\n  </thead>\n  <tbody>\n    <tr>\n      <th>81</th>\n      <td>https://www.001-translations.co.uk/c_10/servic...</td>\n      <td>www.001-translations.co.uk</td>\n      <td>co.uk</td>\n      <td>001-translations.co.uk</td>\n      <td>co.uk</td>\n      <td>001-translations.co.uk</td>\n      <td>2022-08-14 01:13:40</td>\n      <td>200</td>\n      <td>None</td>\n      <td>text/html</td>\n      <td>UTF-8</td>\n      <td>eng</td>\n      <td>None</td>\n      <td>crawl-data/CC-MAIN-2022-33/segments/1659882571...</td>\n      <td>538045750</td>\n      <td>5104</td>\n      <td>1659882571989.67</td>\n      <td>https://data.commoncrawl.org/crawl-data/CC-MAI...</td>\n      <td>﻿ Website translation - 001 Translation UK\\n00...</td>\n      <td>{}</td>\n    </tr>\n    <tr>\n      <th>82</th>\n      <td>https://www.001-translations.co.uk/c_132/conta...</td>\n      <td>www.001-translations.co.uk</td>\n      <td>co.uk</td>\n      <td>001-translations.co.uk</td>\n      <td>co.uk</td>\n      <td>001-translations.co.uk</td>\n      <td>2022-08-14 00:46:10</td>\n      <td>200</td>\n      <td>None</td>\n      <td>text/html</td>\n      <td>UTF-8</td>\n      <td>eng</td>\n      <td>None</td>\n      <td>crawl-data/CC-MAIN-2022-33/segments/1659882571...</td>\n      <td>571777495</td>\n      <td>4697</td>\n      <td>1659882571989.67</td>\n      <td>https://data.commoncrawl.org/crawl-data/CC-MAI...</td>\n      <td>﻿ Contact - 001 Translation UK\\n001 Translatio...</td>\n      <td>{}</td>\n    </tr>\n    <tr>\n      <th>83</th>\n      <td>https://www.001-translations.co.uk/c_132/conta...</td>\n      <td>www.001-translations.co.uk</td>\n      <td>co.uk</td>\n      <td>001-translations.co.uk</td>\n      <td>co.uk</td>\n      <td>001-translations.co.uk</td>\n      <td>2022-08-14 00:02:57</td>\n      <td>200</td>\n      <td>None</td>\n      <td>text/html</td>\n      <td>UTF-8</td>\n      <td>eng</td>\n      <td>None</td>\n      <td>crawl-data/CC-MAIN-2022-33/segments/1659882571...</td>\n      <td>584262048</td>\n      <td>4862</td>\n      <td>1659882571989.67</td>\n      <td>https://data.commoncrawl.org/crawl-data/CC-MAI...</td>\n      <td>﻿ Contact - 001 Translation UK\\n001 Translatio...</td>\n      <td>{'BT9 6DP': 1}</td>\n    </tr>\n    <tr>\n      <th>84</th>\n      <td>https://www.001-translations.co.uk/c_132/conta...</td>\n      <td>www.001-translations.co.uk</td>\n      <td>co.uk</td>\n      <td>001-translations.co.uk</td>\n      <td>co.uk</td>\n      <td>001-translations.co.uk</td>\n      <td>2022-08-13 23:46:46</td>\n      <td>200</td>\n      <td>None</td>\n      <td>text/html</td>\n      <td>UTF-8</td>\n      <td>eng</td>\n      <td>None</td>\n      <td>crawl-data/CC-MAIN-2022-33/segments/1659882571...</td>\n      <td>563143726</td>\n      <td>4859</td>\n      <td>1659882571989.67</td>\n      <td>https://data.commoncrawl.org/crawl-data/CC-MAI...</td>\n      <td>﻿ Contact - 001 Translation UK\\n001 Translatio...</td>\n      <td>{'LU1 3FL': 1}</td>\n    </tr>\n    <tr>\n      <th>85</th>\n      <td>https://www.001-translations.co.uk/c_132/conta...</td>\n      <td>www.001-translations.co.uk</td>\n      <td>co.uk</td>\n      <td>001-translations.co.uk</td>\n      <td>co.uk</td>\n      <td>001-translations.co.uk</td>\n      <td>2022-08-14 00:25:27</td>\n      <td>200</td>\n      <td>None</td>\n      <td>text/html</td>\n      <td>UTF-8</td>\n      <td>eng</td>\n      <td>None</td>\n      <td>crawl-data/CC-MAIN-2022-33/segments/1659882571...</td>\n      <td>560176613</td>\n      <td>4859</td>\n      <td>1659882571989.67</td>\n      <td>https://data.commoncrawl.org/crawl-data/CC-MAI...</td>\n      <td>﻿ Contact - 001 Translation UK\\n001 Translatio...</td>\n      <td>{'CB1 7ED': 1}</td>\n    </tr>\n    <tr>\n      <th>86</th>\n      <td>https://www.001-translations.co.uk/c_132/conta...</td>\n      <td>www.001-translations.co.uk</td>\n      <td>co.uk</td>\n      <td>001-translations.co.uk</td>\n      <td>co.uk</td>\n      <td>001-translations.co.uk</td>\n      <td>2022-08-14 00:21:06</td>\n      <td>200</td>\n      <td>None</td>\n      <td>text/html</td>\n      <td>UTF-8</td>\n      <td>eng</td>\n      <td>None</td>\n      <td>crawl-data/CC-MAIN-2022-33/segments/1659882571...</td>\n      <td>581835915</td>\n      <td>4877</td>\n      <td>1659882571989.67</td>\n      <td>https://data.commoncrawl.org/crawl-data/CC-MAI...</td>\n      <td>﻿ Contact - 001 Translation UK\\n001 Translatio...</td>\n      <td>{'WD17 4PT': 1}</td>\n    </tr>\n    <tr>\n      <th>87</th>\n      <td>https://www.001-translations.co.uk/c_132/conta...</td>\n      <td>www.001-translations.co.uk</td>\n      <td>co.uk</td>\n      <td>001-translations.co.uk</td>\n      <td>co.uk</td>\n      <td>001-translations.co.uk</td>\n      <td>2022-08-14 00:58:23</td>\n      <td>200</td>\n      <td>None</td>\n      <td>text/html</td>\n      <td>UTF-8</td>\n      <td>eng</td>\n      <td>None</td>\n      <td>crawl-data/CC-MAIN-2022-33/segments/1659882571...</td>\n      <td>553357820</td>\n      <td>4862</td>\n      <td>1659882571989.67</td>\n      <td>https://data.commoncrawl.org/crawl-data/CC-MAI...</td>\n      <td>﻿ Contact - 001 Translation UK\\n001 Translatio...</td>\n      <td>{'M1 1EL': 1}</td>\n    </tr>\n    <tr>\n      <th>88</th>\n      <td>https://www.001-translations.co.uk/c_132/conta...</td>\n      <td>www.001-translations.co.uk</td>\n      <td>co.uk</td>\n      <td>001-translations.co.uk</td>\n      <td>co.uk</td>\n      <td>001-translations.co.uk</td>\n      <td>2022-08-14 01:19:06</td>\n      <td>200</td>\n      <td>None</td>\n      <td>text/html</td>\n      <td>UTF-8</td>\n      <td>eng</td>\n      <td>None</td>\n      <td>crawl-data/CC-MAIN-2022-33/segments/1659882571...</td>\n      <td>580981523</td>\n      <td>4873</td>\n      <td>1659882571989.67</td>\n      <td>https://data.commoncrawl.org/crawl-data/CC-MAI...</td>\n      <td>﻿ Contact - 001 Translation UK\\n001 Translatio...</td>\n      <td>{'NR6 6HP': 1}</td>\n    </tr>\n    <tr>\n      <th>89</th>\n      <td>https://www.001-translations.co.uk/c_132/conta...</td>\n      <td>www.001-translations.co.uk</td>\n      <td>co.uk</td>\n      <td>001-translations.co.uk</td>\n      <td>co.uk</td>\n      <td>001-translations.co.uk</td>\n      <td>2022-08-14 00:11:15</td>\n      <td>200</td>\n      <td>None</td>\n      <td>text/html</td>\n      <td>UTF-8</td>\n      <td>eng</td>\n      <td>None</td>\n      <td>crawl-data/CC-MAIN-2022-33/segments/1659882571...</td>\n      <td>573095298</td>\n      <td>4866</td>\n      <td>1659882571989.67</td>\n      <td>https://data.commoncrawl.org/crawl-data/CC-MAI...</td>\n      <td>﻿ Contact - 001 Translation UK\\n001 Translatio...</td>\n      <td>{'NG3 5JU': 1}</td>\n    </tr>\n    <tr>\n      <th>90</th>\n      <td>https://www.001-translations.co.uk/c_132/conta...</td>\n      <td>www.001-translations.co.uk</td>\n      <td>co.uk</td>\n      <td>001-translations.co.uk</td>\n      <td>co.uk</td>\n      <td>001-translations.co.uk</td>\n      <td>2022-08-14 00:14:35</td>\n      <td>200</td>\n      <td>None</td>\n      <td>text/html</td>\n      <td>UTF-8</td>\n      <td>eng</td>\n      <td>None</td>\n      <td>crawl-data/CC-MAIN-2022-33/segments/1659882571...</td>\n      <td>559901207</td>\n      <td>4877</td>\n      <td>1659882571989.67</td>\n      <td>https://data.commoncrawl.org/crawl-data/CC-MAI...</td>\n      <td>﻿ Contact - 001 Translation UK\\n001 Translatio...</td>\n      <td>{'BD1 2AA': 1}</td>\n    </tr>\n    <tr>\n      <th>91</th>\n      <td>https://www.001-translations.co.uk/c_135/caree...</td>\n      <td>www.001-translations.co.uk</td>\n      <td>co.uk</td>\n      <td>001-translations.co.uk</td>\n      <td>co.uk</td>\n      <td>001-translations.co.uk</td>\n      <td>2022-08-14 00:05:13</td>\n      <td>200</td>\n      <td>None</td>\n      <td>text/html</td>\n      <td>UTF-8</td>\n      <td>eng</td>\n      <td>None</td>\n      <td>crawl-data/CC-MAIN-2022-33/segments/1659882571...</td>\n      <td>561594888</td>\n      <td>3320</td>\n      <td>1659882571989.67</td>\n      <td>https://data.commoncrawl.org/crawl-data/CC-MAI...</td>\n      <td>﻿ Careers - 001 Translation UK\\n001 Translatio...</td>\n      <td>{}</td>\n    </tr>\n  </tbody>\n</table>\n</div>",
      "text/plain": "                                                  url  \\\n81  https://www.001-translations.co.uk/c_10/servic...   \n82  https://www.001-translations.co.uk/c_132/conta...   \n83  https://www.001-translations.co.uk/c_132/conta...   \n84  https://www.001-translations.co.uk/c_132/conta...   \n85  https://www.001-translations.co.uk/c_132/conta...   \n86  https://www.001-translations.co.uk/c_132/conta...   \n87  https://www.001-translations.co.uk/c_132/conta...   \n88  https://www.001-translations.co.uk/c_132/conta...   \n89  https://www.001-translations.co.uk/c_132/conta...   \n90  https://www.001-translations.co.uk/c_132/conta...   \n91  https://www.001-translations.co.uk/c_135/caree...   \n\n                 url_host_name url_host_registry_suffix  \\\n81  www.001-translations.co.uk                    co.uk   \n82  www.001-translations.co.uk                    co.uk   \n83  www.001-translations.co.uk                    co.uk   \n84  www.001-translations.co.uk                    co.uk   \n85  www.001-translations.co.uk                    co.uk   \n86  www.001-translations.co.uk                    co.uk   \n87  www.001-translations.co.uk                    co.uk   \n88  www.001-translations.co.uk                    co.uk   \n89  www.001-translations.co.uk                    co.uk   \n90  www.001-translations.co.uk                    co.uk   \n91  www.001-translations.co.uk                    co.uk   \n\n   url_host_registered_domain url_host_private_suffix url_host_private_domain  \\\n81     001-translations.co.uk                   co.uk  001-translations.co.uk   \n82     001-translations.co.uk                   co.uk  001-translations.co.uk   \n83     001-translations.co.uk                   co.uk  001-translations.co.uk   \n84     001-translations.co.uk                   co.uk  001-translations.co.uk   \n85     001-translations.co.uk                   co.uk  001-translations.co.uk   \n86     001-translations.co.uk                   co.uk  001-translations.co.uk   \n87     001-translations.co.uk                   co.uk  001-translations.co.uk   \n88     001-translations.co.uk                   co.uk  001-translations.co.uk   \n89     001-translations.co.uk                   co.uk  001-translations.co.uk   \n90     001-translations.co.uk                   co.uk  001-translations.co.uk   \n91     001-translations.co.uk                   co.uk  001-translations.co.uk   \n\n            fetch_time  fetch_status fetch_redirect content_mime_type  \\\n81 2022-08-14 01:13:40           200           None         text/html   \n82 2022-08-14 00:46:10           200           None         text/html   \n83 2022-08-14 00:02:57           200           None         text/html   \n84 2022-08-13 23:46:46           200           None         text/html   \n85 2022-08-14 00:25:27           200           None         text/html   \n86 2022-08-14 00:21:06           200           None         text/html   \n87 2022-08-14 00:58:23           200           None         text/html   \n88 2022-08-14 01:19:06           200           None         text/html   \n89 2022-08-14 00:11:15           200           None         text/html   \n90 2022-08-14 00:14:35           200           None         text/html   \n91 2022-08-14 00:05:13           200           None         text/html   \n\n   content_charset content_languages content_truncated  \\\n81           UTF-8               eng              None   \n82           UTF-8               eng              None   \n83           UTF-8               eng              None   \n84           UTF-8               eng              None   \n85           UTF-8               eng              None   \n86           UTF-8               eng              None   \n87           UTF-8               eng              None   \n88           UTF-8               eng              None   \n89           UTF-8               eng              None   \n90           UTF-8               eng              None   \n91           UTF-8               eng              None   \n\n                                        warc_filename  warc_record_offset  \\\n81  crawl-data/CC-MAIN-2022-33/segments/1659882571...           538045750   \n82  crawl-data/CC-MAIN-2022-33/segments/1659882571...           571777495   \n83  crawl-data/CC-MAIN-2022-33/segments/1659882571...           584262048   \n84  crawl-data/CC-MAIN-2022-33/segments/1659882571...           563143726   \n85  crawl-data/CC-MAIN-2022-33/segments/1659882571...           560176613   \n86  crawl-data/CC-MAIN-2022-33/segments/1659882571...           581835915   \n87  crawl-data/CC-MAIN-2022-33/segments/1659882571...           553357820   \n88  crawl-data/CC-MAIN-2022-33/segments/1659882571...           580981523   \n89  crawl-data/CC-MAIN-2022-33/segments/1659882571...           573095298   \n90  crawl-data/CC-MAIN-2022-33/segments/1659882571...           559901207   \n91  crawl-data/CC-MAIN-2022-33/segments/1659882571...           561594888   \n\n    warc_record_length      warc_segment  \\\n81                5104  1659882571989.67   \n82                4697  1659882571989.67   \n83                4862  1659882571989.67   \n84                4859  1659882571989.67   \n85                4859  1659882571989.67   \n86                4877  1659882571989.67   \n87                4862  1659882571989.67   \n88                4873  1659882571989.67   \n89                4866  1659882571989.67   \n90                4877  1659882571989.67   \n91                3320  1659882571989.67   \n\n                                          needed_warc  \\\n81  https://data.commoncrawl.org/crawl-data/CC-MAI...   \n82  https://data.commoncrawl.org/crawl-data/CC-MAI...   \n83  https://data.commoncrawl.org/crawl-data/CC-MAI...   \n84  https://data.commoncrawl.org/crawl-data/CC-MAI...   \n85  https://data.commoncrawl.org/crawl-data/CC-MAI...   \n86  https://data.commoncrawl.org/crawl-data/CC-MAI...   \n87  https://data.commoncrawl.org/crawl-data/CC-MAI...   \n88  https://data.commoncrawl.org/crawl-data/CC-MAI...   \n89  https://data.commoncrawl.org/crawl-data/CC-MAI...   \n90  https://data.commoncrawl.org/crawl-data/CC-MAI...   \n91  https://data.commoncrawl.org/crawl-data/CC-MAI...   \n\n                                                 text         postcode  \n81  ﻿ Website translation - 001 Translation UK\\n00...               {}  \n82  ﻿ Contact - 001 Translation UK\\n001 Translatio...               {}  \n83  ﻿ Contact - 001 Translation UK\\n001 Translatio...   {'BT9 6DP': 1}  \n84  ﻿ Contact - 001 Translation UK\\n001 Translatio...   {'LU1 3FL': 1}  \n85  ﻿ Contact - 001 Translation UK\\n001 Translatio...   {'CB1 7ED': 1}  \n86  ﻿ Contact - 001 Translation UK\\n001 Translatio...  {'WD17 4PT': 1}  \n87  ﻿ Contact - 001 Translation UK\\n001 Translatio...    {'M1 1EL': 1}  \n88  ﻿ Contact - 001 Translation UK\\n001 Translatio...   {'NR6 6HP': 1}  \n89  ﻿ Contact - 001 Translation UK\\n001 Translatio...   {'NG3 5JU': 1}  \n90  ﻿ Contact - 001 Translation UK\\n001 Translatio...   {'BD1 2AA': 1}  \n91  ﻿ Careers - 001 Translation UK\\n001 Translatio...               {}  "
     },
     "execution_count": 15,
     "metadata": {},
     "output_type": "execute_result"
    }
   ],
   "source": [
    "df"
   ]
  },
  {
   "cell_type": "code",
   "execution_count": null,
   "metadata": {},
   "outputs": [],
   "source": []
  }
 ],
 "metadata": {
  "kernelspec": {
   "display_name": "Python 3.10.9 64-bit ('paper_3': conda)",
   "name": "python3109jvsc74a57bd09c88df90110bced9cec65b9bdbd3e4c663d10a8b4acefcbcfa76c0bc8c341b4e"
  },
  "language_info": {
   "codemirror_mode": {
    "name": "ipython",
    "version": 3
   },
   "file_extension": ".py",
   "mimetype": "text/x-python",
   "name": "python",
   "nbconvert_exporter": "python",
   "pygments_lexer": "ipython3",
   "version": "3.10.9"
  },
  "orig_nbformat": 2
 },
 "nbformat": 4,
 "nbformat_minor": 2
}