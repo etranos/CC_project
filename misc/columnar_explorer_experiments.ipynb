{
 "cells": [
  {
   "cell_type": "code",
   "execution_count": 6,
   "metadata": {},
   "outputs": [],
   "source": [
    "import pandas as pd\n",
    "import json\n",
    "import gzip\n",
    "import os \n",
    "from tqdm import tqdm \n",
    "import requests\n",
    "import os\n",
    "import numpy as np \n"
   ]
  },
  {
   "cell_type": "code",
   "execution_count": 30,
   "metadata": {},
   "outputs": [],
   "source": [
    "class ColumnarExplorer: \n",
    "    def __init__(self, monthly_path) -> None: \n",
    "        self.monthly_path = monthly_path\n",
    "        self.schema = self._fetch_schema()\n",
    "        self.monthly_urls = self._get_monthly_indices()\n",
    "\n",
    "    def _fetch_schema(self):\n",
    "        \"\"\"\n",
    "        Get schema of Common Crawl columnar format \n",
    "        \"\"\"\n",
    "        schema = 'https://github.com/commoncrawl/cc-index-table/blob/main/src/main/resources/schema/cc-index-schema-flat.json'\n",
    "        resp = requests.get(schema)\n",
    "\n",
    "        return json.loads(resp.text)\n",
    "\n",
    "    def _get_monthly_indices(self):\n",
    "        \"\"\"\n",
    "        Extract indices to access monthly dumps of the crawl \n",
    "        \"\"\"\n",
    "        index_paths = requests.get(self.monthly_path)\n",
    "        open('monthly_index.gz', 'wb').write(index_paths.content)\n",
    "        links_for_download_cdx = []\n",
    "        with gzip.open('monthly_index.gz', 'rb') as f:\n",
    "            for line in f:\n",
    "                links_for_download_cdx.append(line)\n",
    "        os.remove('monthly_index.gz')\n",
    "        links_for_download_cdx_strings = [str(byte_string, 'UTF-8').rstrip('\\n') for byte_string in links_for_download_cdx]\n",
    "        links_to_get_indices = ['https://data.commoncrawl.org/' + x for x in links_for_download_cdx_strings] \n",
    "        links_to_get_indices = links_to_get_indices[0:6]\n",
    "\n",
    "        return(links_to_get_indices)\n",
    "\n",
    "    def get_domain(self, domain: str, chunks: int, clean = False):   #set default n of chunks as 1\n",
    "        \"\"\"\n",
    "        Get monthly records of a user defnined domain (e.g. .com)\n",
    "        \"\"\"\n",
    "        links_to_get_indices = self.monthly_urls\n",
    "        chunks_of_indices = numpy.array_split(links_to_get_indices, chunks)\n",
    "        results = pd.DataFrame()\n",
    "\n",
    "        for chunk in chunks_of_indices:\n",
    "            print(chunk)\n",
    "            urls = pd.DataFrame()\n",
    "            for link_of_indices in tqdm(chunk):\n",
    "                link_to_download = 'curl -o columnar.gz.parquet ' + ''.join(link_of_indices) \n",
    "                os.system(link_to_download)\n",
    "                df = pd.read_parquet('columnar.gz.parquet', engine='fastparquet')\n",
    "                data = df.loc[df['url_host_private_suffix'] == domain] \n",
    "                print('number of found f'{domain}' in this chunk is')\n",
    "                print(len(data))\n",
    "                urls = pd.concat([urls, data], axis=0).reset_index(drop=True)\n",
    "                print(len(urls))\n",
    "                os.remove('columnar.gz.parquet')\n",
    "\n",
    "                if clean:\n",
    "                    urls = urls.drop(['url_surtkey', 'url_host_tld', 'url_host_2nd_last_part', 'url_host_3rd_last_part', \n",
    "                                    'url_host_4th_last_part', 'url_host_5th_last_part', 'url_host_name_reversed', 'url_protocol', \n",
    "                                    'url_port', 'url_path', 'url_query', 'content_digest', 'content_mime_detected'], axis = 1) \t\n",
    "                    urls = urls.loc[(urls['fetch_status'] == 200)]\n",
    "                    urls = urls[~urls.warc_filename.str.contains('robotstxt')]  \n",
    "\n",
    "                else: \n",
    "                    urls = urls \n",
    "            \n",
    "        results = pd.concat([results, urls])\n",
    "        return results\n",
    "\n"
   ]
  },
  {
   "cell_type": "code",
   "execution_count": 31,
   "metadata": {},
   "outputs": [],
   "source": [
    "trial_1 = ColumnarExplorer('https://data.commoncrawl.org/crawl-data/CC-MAIN-2022-33/cc-index-table.paths.gz')"
   ]
  },
  {
   "cell_type": "code",
   "execution_count": 32,
   "metadata": {},
   "outputs": [
    {
     "data": {
      "text/plain": "['https://data.commoncrawl.org/cc-index/table/cc-main/warc/crawl=CC-MAIN-2022-33/subset=crawldiagnostics/part-00000-d466b69e-be2b-4525-ac34-1b10d57329da.c000.gz.parquet',\n 'https://data.commoncrawl.org/cc-index/table/cc-main/warc/crawl=CC-MAIN-2022-33/subset=crawldiagnostics/part-00001-d466b69e-be2b-4525-ac34-1b10d57329da.c000.gz.parquet',\n 'https://data.commoncrawl.org/cc-index/table/cc-main/warc/crawl=CC-MAIN-2022-33/subset=crawldiagnostics/part-00002-d466b69e-be2b-4525-ac34-1b10d57329da.c000.gz.parquet',\n 'https://data.commoncrawl.org/cc-index/table/cc-main/warc/crawl=CC-MAIN-2022-33/subset=crawldiagnostics/part-00003-d466b69e-be2b-4525-ac34-1b10d57329da.c000.gz.parquet',\n 'https://data.commoncrawl.org/cc-index/table/cc-main/warc/crawl=CC-MAIN-2022-33/subset=crawldiagnostics/part-00004-d466b69e-be2b-4525-ac34-1b10d57329da.c000.gz.parquet',\n 'https://data.commoncrawl.org/cc-index/table/cc-main/warc/crawl=CC-MAIN-2022-33/subset=crawldiagnostics/part-00005-d466b69e-be2b-4525-ac34-1b10d57329da.c000.gz.parquet']"
     },
     "execution_count": 32,
     "metadata": {},
     "output_type": "execute_result"
    }
   ],
   "source": [
    "trial_1.monthly_urls"
   ]
  },
  {
   "cell_type": "code",
   "execution_count": 33,
   "metadata": {},
   "outputs": [
    {
     "name": "stdout",
     "output_type": "stream",
     "text": [
      "2\n",
      "[array(['https://data.commoncrawl.org/cc-index/table/cc-main/warc/crawl=CC-MAIN-2022-33/subset=crawldiagnostics/part-00000-d466b69e-be2b-4525-ac34-1b10d57329da.c000.gz.parquet',\n",
      "       'https://data.commoncrawl.org/cc-index/table/cc-main/warc/crawl=CC-MAIN-2022-33/subset=crawldiagnostics/part-00001-d466b69e-be2b-4525-ac34-1b10d57329da.c000.gz.parquet',\n",
      "       'https://data.commoncrawl.org/cc-index/table/cc-main/warc/crawl=CC-MAIN-2022-33/subset=crawldiagnostics/part-00002-d466b69e-be2b-4525-ac34-1b10d57329da.c000.gz.parquet'],\n",
      "      dtype='<U166'), array(['https://data.commoncrawl.org/cc-index/table/cc-main/warc/crawl=CC-MAIN-2022-33/subset=crawldiagnostics/part-00003-d466b69e-be2b-4525-ac34-1b10d57329da.c000.gz.parquet',\n",
      "       'https://data.commoncrawl.org/cc-index/table/cc-main/warc/crawl=CC-MAIN-2022-33/subset=crawldiagnostics/part-00004-d466b69e-be2b-4525-ac34-1b10d57329da.c000.gz.parquet',\n",
      "       'https://data.commoncrawl.org/cc-index/table/cc-main/warc/crawl=CC-MAIN-2022-33/subset=crawldiagnostics/part-00005-d466b69e-be2b-4525-ac34-1b10d57329da.c000.gz.parquet'],\n",
      "      dtype='<U166')]\n",
      "['https://data.commoncrawl.org/cc-index/table/cc-main/warc/crawl=CC-MAIN-2022-33/subset=crawldiagnostics/part-00000-d466b69e-be2b-4525-ac34-1b10d57329da.c000.gz.parquet'\n",
      " 'https://data.commoncrawl.org/cc-index/table/cc-main/warc/crawl=CC-MAIN-2022-33/subset=crawldiagnostics/part-00001-d466b69e-be2b-4525-ac34-1b10d57329da.c000.gz.parquet'\n",
      " 'https://data.commoncrawl.org/cc-index/table/cc-main/warc/crawl=CC-MAIN-2022-33/subset=crawldiagnostics/part-00002-d466b69e-be2b-4525-ac34-1b10d57329da.c000.gz.parquet']\n"
     ]
    },
    {
     "name": "stderr",
     "output_type": "stream",
     "text": [
      "  0%|          | 0/3 [00:00<?, ?it/s]  % Total    % Received % Xferd  Average Speed   Time    Time     Time  Current\n",
      "                                 Dload  Upload   Total   Spent    Left  Speed\n",
      "100  172M  100  172M    0     0  18.5M      0  0:00:09  0:00:09 --:--:-- 19.2M\n",
      " 33%|███▎      | 1/3 [00:15<00:30, 15.19s/it]"
     ]
    },
    {
     "name": "stdout",
     "output_type": "stream",
     "text": [
      "quanti?\n",
      "0\n",
      "0\n"
     ]
    },
    {
     "name": "stderr",
     "output_type": "stream",
     "text": [
      "  % Total    % Received % Xferd  Average Speed   Time    Time     Time  Current\n",
      "                                 Dload  Upload   Total   Spent    Left  Speed\n",
      "100  144M  100  144M    0     0  18.0M      0  0:00:07  0:00:07 --:--:-- 18.9M\n",
      " 67%|██████▋   | 2/3 [00:29<00:14, 14.49s/it]"
     ]
    },
    {
     "name": "stdout",
     "output_type": "stream",
     "text": [
      "quanti?\n",
      "0\n",
      "0\n"
     ]
    },
    {
     "name": "stderr",
     "output_type": "stream",
     "text": [
      "  % Total    % Received % Xferd  Average Speed   Time    Time     Time  Current\n",
      "                                 Dload  Upload   Total   Spent    Left  Speed\n",
      "100  219M  100  219M    0     0  19.1M      0  0:00:11  0:00:11 --:--:-- 19.6M\n",
      "100%|██████████| 3/3 [00:48<00:00, 16.10s/it]\n"
     ]
    },
    {
     "name": "stdout",
     "output_type": "stream",
     "text": [
      "quanti?\n",
      "0\n",
      "0\n",
      "['https://data.commoncrawl.org/cc-index/table/cc-main/warc/crawl=CC-MAIN-2022-33/subset=crawldiagnostics/part-00003-d466b69e-be2b-4525-ac34-1b10d57329da.c000.gz.parquet'\n",
      " 'https://data.commoncrawl.org/cc-index/table/cc-main/warc/crawl=CC-MAIN-2022-33/subset=crawldiagnostics/part-00004-d466b69e-be2b-4525-ac34-1b10d57329da.c000.gz.parquet'\n",
      " 'https://data.commoncrawl.org/cc-index/table/cc-main/warc/crawl=CC-MAIN-2022-33/subset=crawldiagnostics/part-00005-d466b69e-be2b-4525-ac34-1b10d57329da.c000.gz.parquet']\n"
     ]
    },
    {
     "name": "stderr",
     "output_type": "stream",
     "text": [
      "  0%|          | 0/3 [00:00<?, ?it/s]  % Total    % Received % Xferd  Average Speed   Time    Time     Time  Current\n",
      "                                 Dload  Upload   Total   Spent    Left  Speed\n",
      "100  207M  100  207M    0     0  14.5M      0  0:00:14  0:00:14 --:--:-- 13.8M\n",
      " 33%|███▎      | 1/3 [00:21<00:43, 21.85s/it]"
     ]
    },
    {
     "name": "stdout",
     "output_type": "stream",
     "text": [
      "quanti?\n",
      "0\n",
      "0\n"
     ]
    },
    {
     "name": "stderr",
     "output_type": "stream",
     "text": [
      "  % Total    % Received % Xferd  Average Speed   Time    Time     Time  Current\n",
      "                                 Dload  Upload   Total   Spent    Left  Speed\n",
      "100  165M  100  165M    0     0  17.1M      0  0:00:09  0:00:09 --:--:-- 19.0M\n",
      " 67%|██████▋   | 2/3 [00:38<00:18, 18.61s/it]"
     ]
    },
    {
     "name": "stdout",
     "output_type": "stream",
     "text": [
      "quanti?\n",
      "0\n",
      "0\n"
     ]
    },
    {
     "name": "stderr",
     "output_type": "stream",
     "text": [
      "  % Total    % Received % Xferd  Average Speed   Time    Time     Time  Current\n",
      "                                 Dload  Upload   Total   Spent    Left  Speed\n",
      "100  155M  100  155M    0     0  14.9M      0  0:00:10  0:00:10 --:--:-- 15.7M\n",
      "100%|██████████| 3/3 [00:54<00:00, 18.16s/it]"
     ]
    },
    {
     "name": "stdout",
     "output_type": "stream",
     "text": [
      "quanti?\n",
      "0\n",
      "0\n"
     ]
    },
    {
     "name": "stderr",
     "output_type": "stream",
     "text": [
      "\n"
     ]
    },
    {
     "data": {
      "text/html": "<div>\n<style scoped>\n    .dataframe tbody tr th:only-of-type {\n        vertical-align: middle;\n    }\n\n    .dataframe tbody tr th {\n        vertical-align: top;\n    }\n\n    .dataframe thead th {\n        text-align: right;\n    }\n</style>\n<table border=\"1\" class=\"dataframe\">\n  <thead>\n    <tr style=\"text-align: right;\">\n      <th></th>\n      <th>url</th>\n      <th>url_host_name</th>\n      <th>url_host_registry_suffix</th>\n      <th>url_host_registered_domain</th>\n      <th>url_host_private_suffix</th>\n      <th>url_host_private_domain</th>\n      <th>fetch_time</th>\n      <th>fetch_status</th>\n      <th>fetch_redirect</th>\n      <th>content_mime_type</th>\n      <th>content_charset</th>\n      <th>content_languages</th>\n      <th>content_truncated</th>\n      <th>warc_filename</th>\n      <th>warc_record_offset</th>\n      <th>warc_record_length</th>\n      <th>warc_segment</th>\n    </tr>\n  </thead>\n  <tbody>\n  </tbody>\n</table>\n</div>",
      "text/plain": "Empty DataFrame\nColumns: [url, url_host_name, url_host_registry_suffix, url_host_registered_domain, url_host_private_suffix, url_host_private_domain, fetch_time, fetch_status, fetch_redirect, content_mime_type, content_charset, content_languages, content_truncated, warc_filename, warc_record_offset, warc_record_length, warc_segment]\nIndex: []"
     },
     "execution_count": 33,
     "metadata": {},
     "output_type": "execute_result"
    }
   ],
   "source": [
    "trial_1.get_domain('co.uk', 2, clean = True)"
   ]
  },
  {
   "cell_type": "code",
   "execution_count": null,
   "metadata": {},
   "outputs": [],
   "source": []
  }
 ],
 "metadata": {
  "kernelspec": {
   "display_name": "Python 3.9.7 64-bit ('bertopic': conda)",
   "name": "python397jvsc74a57bd0b389cf007b8b489ba6eb27a7aad9da3094fbdd390da7550691e2b43641ff27f0"
  },
  "language_info": {
   "name": "python",
   "version": ""
  },
  "orig_nbformat": 2
 },
 "nbformat": 4,
 "nbformat_minor": 2
}