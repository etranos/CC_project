{
 "cells": [
  {
   "cell_type": "code",
   "execution_count": 2,
   "metadata": {},
   "outputs": [],
   "source": [
    "import pandas as pd "
   ]
  },
  {
   "cell_type": "code",
   "execution_count": 5,
   "metadata": {},
   "outputs": [],
   "source": [
    "df = pd.read_pickle('/Users/gocchini/Desktop/CC project/tutorial_following/results_18_05.pkl')"
   ]
  },
  {
   "cell_type": "code",
   "execution_count": 6,
   "metadata": {},
   "outputs": [
    {
     "data": {
      "text/html": "<div>\n<style scoped>\n    .dataframe tbody tr th:only-of-type {\n        vertical-align: middle;\n    }\n\n    .dataframe tbody tr th {\n        vertical-align: top;\n    }\n\n    .dataframe thead th {\n        text-align: right;\n    }\n</style>\n<table border=\"1\" class=\"dataframe\">\n  <thead>\n    <tr style=\"text-align: right;\">\n      <th></th>\n      <th>url_host_name</th>\n      <th>website_postcodes</th>\n    </tr>\n  </thead>\n  <tbody>\n    <tr>\n      <th>0</th>\n      <td>0-0.co.uk</td>\n      <td>{}</td>\n    </tr>\n    <tr>\n      <th>1</th>\n      <td>0-1-0test.co.uk</td>\n      <td>{'N113NX': 1}</td>\n    </tr>\n    <tr>\n      <th>2</th>\n      <td>0-1.co.uk</td>\n      <td>{}</td>\n    </tr>\n    <tr>\n      <th>3</th>\n      <td>000001.co.uk</td>\n      <td>{}</td>\n    </tr>\n    <tr>\n      <th>4</th>\n      <td>0001.co.uk</td>\n      <td>{}</td>\n    </tr>\n    <tr>\n      <th>5</th>\n      <td>001assessments.co.uk</td>\n      <td>{'B3 1RL': 1, 'B23 6BG': 1}</td>\n    </tr>\n    <tr>\n      <th>6</th>\n      <td>001quicktest.co.uk</td>\n      <td>{'LS9 7DR': 3, 'GU2 7YG': 1}</td>\n    </tr>\n    <tr>\n      <th>7</th>\n      <td>001royalcabs.co.uk</td>\n      <td>{'mk170bu': 1, 'Mk170bu': 1, 'MK17 0BU': 1}</td>\n    </tr>\n    <tr>\n      <th>8</th>\n      <td>006900.co.uk</td>\n      <td>{'BA6 8LF': 1}</td>\n    </tr>\n    <tr>\n      <th>9</th>\n      <td>007carteblanche.co.uk</td>\n      <td>{}</td>\n    </tr>\n    <tr>\n      <th>10</th>\n      <td>007magazine.co.uk</td>\n      <td>{'WC2H 7BY': 1, 'SE1 8XT': 1}</td>\n    </tr>\n    <tr>\n      <th>11</th>\n      <td>007online.co.uk</td>\n      <td>{}</td>\n    </tr>\n    <tr>\n      <th>12</th>\n      <td>007oxfordtaxis.co.uk</td>\n      <td>{'OX3 8DJ': 1}</td>\n    </tr>\n    <tr>\n      <th>13</th>\n      <td>007pi.co.uk</td>\n      <td>{'M2 4JW': 1}</td>\n    </tr>\n    <tr>\n      <th>14</th>\n      <td>00mobile.co.uk</td>\n      <td>{}</td>\n    </tr>\n    <tr>\n      <th>15</th>\n      <td>010.co.uk</td>\n      <td>{}</td>\n    </tr>\n    <tr>\n      <th>16</th>\n      <td>010372.co.uk</td>\n      <td>{}</td>\n    </tr>\n    <tr>\n      <th>17</th>\n      <td>0116.co.uk</td>\n      <td>{}</td>\n    </tr>\n    <tr>\n      <th>18</th>\n      <td>01202.co.uk</td>\n      <td>{}</td>\n    </tr>\n    <tr>\n      <th>19</th>\n      <td>joe-robinson.007magazineonline.co.uk</td>\n      <td>{}</td>\n    </tr>\n    <tr>\n      <th>20</th>\n      <td>www.0-0.co.uk</td>\n      <td>{}</td>\n    </tr>\n    <tr>\n      <th>21</th>\n      <td>www.0-21.co.uk</td>\n      <td>{}</td>\n    </tr>\n    <tr>\n      <th>22</th>\n      <td>www.000host.co.uk</td>\n      <td>{}</td>\n    </tr>\n    <tr>\n      <th>23</th>\n      <td>www.001-translations.co.uk</td>\n      <td>{'BT9 6DP': 1, 'LU1 3FL': 1, 'CB1 7ED': 1, 'WD...</td>\n    </tr>\n    <tr>\n      <th>24</th>\n      <td>www.001formationagent.co.uk</td>\n      <td>{'W1B 3HH': 1}</td>\n    </tr>\n    <tr>\n      <th>25</th>\n      <td>www.0044.co.uk</td>\n      <td>{}</td>\n    </tr>\n    <tr>\n      <th>26</th>\n      <td>www.0044healthtesting.co.uk</td>\n      <td>{'HU9 1ND': 2, 'B2 4AY': 1}</td>\n    </tr>\n    <tr>\n      <th>27</th>\n      <td>www.005degreeswest.co.uk</td>\n      <td>{}</td>\n    </tr>\n    <tr>\n      <th>28</th>\n      <td>www.007autolocks.co.uk</td>\n      <td>{}</td>\n    </tr>\n    <tr>\n      <th>29</th>\n      <td>www.007escorts.co.uk</td>\n      <td>{}</td>\n    </tr>\n    <tr>\n      <th>30</th>\n      <td>www.007grabs-services.co.uk</td>\n      <td>{}</td>\n    </tr>\n    <tr>\n      <th>31</th>\n      <td>www.007magazine.co.uk</td>\n      <td>{'SW7 2RL': 1, 'SE1 8XX': 1, 'er50th': 1, 'F45...</td>\n    </tr>\n    <tr>\n      <th>32</th>\n      <td>www.007notimetodie.co.uk</td>\n      <td>{}</td>\n    </tr>\n    <tr>\n      <th>33</th>\n      <td>www.00cabsyeovil.co.uk</td>\n      <td>{'BA21 4DN': 1}</td>\n    </tr>\n    <tr>\n      <th>34</th>\n      <td>www.00productions.co.uk</td>\n      <td>{}</td>\n    </tr>\n    <tr>\n      <th>35</th>\n      <td>www.01134.co.uk</td>\n      <td>{'HR1 4DP': 1}</td>\n    </tr>\n    <tr>\n      <th>36</th>\n      <td>www.0115records.co.uk</td>\n      <td>{}</td>\n    </tr>\n  </tbody>\n</table>\n</div>",
      "text/plain": "                           url_host_name  \\\n0                              0-0.co.uk   \n1                        0-1-0test.co.uk   \n2                              0-1.co.uk   \n3                           000001.co.uk   \n4                             0001.co.uk   \n5                   001assessments.co.uk   \n6                     001quicktest.co.uk   \n7                     001royalcabs.co.uk   \n8                           006900.co.uk   \n9                  007carteblanche.co.uk   \n10                     007magazine.co.uk   \n11                       007online.co.uk   \n12                  007oxfordtaxis.co.uk   \n13                           007pi.co.uk   \n14                        00mobile.co.uk   \n15                             010.co.uk   \n16                          010372.co.uk   \n17                            0116.co.uk   \n18                           01202.co.uk   \n19  joe-robinson.007magazineonline.co.uk   \n20                         www.0-0.co.uk   \n21                        www.0-21.co.uk   \n22                     www.000host.co.uk   \n23            www.001-translations.co.uk   \n24           www.001formationagent.co.uk   \n25                        www.0044.co.uk   \n26           www.0044healthtesting.co.uk   \n27              www.005degreeswest.co.uk   \n28                www.007autolocks.co.uk   \n29                  www.007escorts.co.uk   \n30           www.007grabs-services.co.uk   \n31                 www.007magazine.co.uk   \n32              www.007notimetodie.co.uk   \n33                www.00cabsyeovil.co.uk   \n34               www.00productions.co.uk   \n35                       www.01134.co.uk   \n36                 www.0115records.co.uk   \n\n                                    website_postcodes  \n0                                                  {}  \n1                                       {'N113NX': 1}  \n2                                                  {}  \n3                                                  {}  \n4                                                  {}  \n5                         {'B3 1RL': 1, 'B23 6BG': 1}  \n6                        {'LS9 7DR': 3, 'GU2 7YG': 1}  \n7         {'mk170bu': 1, 'Mk170bu': 1, 'MK17 0BU': 1}  \n8                                      {'BA6 8LF': 1}  \n9                                                  {}  \n10                      {'WC2H 7BY': 1, 'SE1 8XT': 1}  \n11                                                 {}  \n12                                     {'OX3 8DJ': 1}  \n13                                      {'M2 4JW': 1}  \n14                                                 {}  \n15                                                 {}  \n16                                                 {}  \n17                                                 {}  \n18                                                 {}  \n19                                                 {}  \n20                                                 {}  \n21                                                 {}  \n22                                                 {}  \n23  {'BT9 6DP': 1, 'LU1 3FL': 1, 'CB1 7ED': 1, 'WD...  \n24                                     {'W1B 3HH': 1}  \n25                                                 {}  \n26                        {'HU9 1ND': 2, 'B2 4AY': 1}  \n27                                                 {}  \n28                                                 {}  \n29                                                 {}  \n30                                                 {}  \n31  {'SW7 2RL': 1, 'SE1 8XX': 1, 'er50th': 1, 'F45...  \n32                                                 {}  \n33                                    {'BA21 4DN': 1}  \n34                                                 {}  \n35                                     {'HR1 4DP': 1}  \n36                                                 {}  "
     },
     "execution_count": 6,
     "metadata": {},
     "output_type": "execute_result"
    }
   ],
   "source": [
    "df"
   ]
  },
  {
   "cell_type": "markdown",
   "metadata": {},
   "source": [
    "# Question: what if a compamnu has loads of postcodes? All happening the same amount of times "
   ]
  }
 ],
 "metadata": {
  "kernelspec": {
   "display_name": "Python 3.10.8 64-bit ('common_crawl': conda)",
   "name": "python3108jvsc74a57bd0c3031ed7de4768595286825fef15184613b7776b85109d29ac137d0da56e9c90"
  },
  "language_info": {
   "codemirror_mode": {
    "name": "ipython",
    "version": 3
   },
   "file_extension": ".py",
   "mimetype": "text/x-python",
   "name": "python",
   "nbconvert_exporter": "python",
   "pygments_lexer": "ipython3",
   "version": "3.10.8"
  },
  "orig_nbformat": 2
 },
 "nbformat": 4,
 "nbformat_minor": 2
}