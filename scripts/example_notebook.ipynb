{
 "cells": [
  {
   "cell_type": "code",
   "execution_count": 1,
   "metadata": {},
   "outputs": [],
   "source": [
    "import utils\n",
    "import process_warc_files\n",
    "from columnar_explorer import ColumnarExplorer"
   ]
  },
  {
   "cell_type": "markdown",
   "metadata": {},
   "source": [
    "# Find the working path for a month and year"
   ]
  },
  {
   "cell_type": "code",
   "execution_count": 2,
   "metadata": {},
   "outputs": [
    {
     "name": "stdout",
     "output_type": "stream",
     "text": [
      "CC-MAIN-2023-40\n",
      "https://data.commoncrawl.org/crawl-data/CC-MAIN-2023-40/cc-index-table.paths.gz\n"
     ]
    }
   ],
   "source": [
    "trial_columnar_explorer = ColumnarExplorer('September', '2023')"
   ]
  },
  {
   "cell_type": "markdown",
   "metadata": {},
   "source": [
    "# Some months are stored together! ColumnarExplorer is robust to that: "
   ]
  },
  {
   "cell_type": "code",
   "execution_count": 7,
   "metadata": {},
   "outputs": [
    {
     "name": "stdout",
     "output_type": "stream",
     "text": [
      "CC-MAIN-2023-40\n",
      "https://data.commoncrawl.org/crawl-data/CC-MAIN-2023-40/cc-index-table.paths.gz\n"
     ]
    }
   ],
   "source": [
    "trial_columnar_explorer_following_month = ColumnarExplorer('October', '2023')"
   ]
  },
  {
   "cell_type": "code",
   "execution_count": 10,
   "metadata": {},
   "outputs": [
    {
     "data": {
      "text/plain": "True"
     },
     "execution_count": 10,
     "metadata": {},
     "output_type": "execute_result"
    }
   ],
   "source": [
    "trial_columnar_explorer == trial_columnar_explorer_following_month"
   ]
  },
  {
   "cell_type": "markdown",
   "metadata": {},
   "source": [
    "# Some months are not collected by Common Crawl :("
   ]
  },
  {
   "cell_type": "code",
   "execution_count": 11,
   "metadata": {},
   "outputs": [
    {
     "ename": "ValueError",
     "evalue": "No matching entry found for August 2023",
     "output_type": "error",
     "traceback": [
      "\u001b[0;31m---------------------------------------------------------------------------\u001b[0m",
      "\u001b[0;31mValueError\u001b[0m                                Traceback (most recent call last)",
      "Cell \u001b[0;32mIn[11], line 1\u001b[0m\n\u001b[0;32m----> 1\u001b[0m non_existant_columnar_explorer \u001b[38;5;241m=\u001b[39m \u001b[43mColumnarExplorer\u001b[49m\u001b[43m(\u001b[49m\u001b[38;5;124;43m'\u001b[39;49m\u001b[38;5;124;43mAugust\u001b[39;49m\u001b[38;5;124;43m'\u001b[39;49m\u001b[43m,\u001b[49m\u001b[43m \u001b[49m\u001b[38;5;124;43m'\u001b[39;49m\u001b[38;5;124;43m2023\u001b[39;49m\u001b[38;5;124;43m'\u001b[39;49m\u001b[43m)\u001b[49m\n",
      "File \u001b[0;32m~/Desktop/CC_project/tutorial_following_pakk/scripts/columnar_explorer.py:18\u001b[0m, in \u001b[0;36mColumnarExplorer.__init__\u001b[0;34m(self, month, year)\u001b[0m\n\u001b[1;32m     16\u001b[0m \u001b[38;5;28mself\u001b[39m\u001b[38;5;241m.\u001b[39myear \u001b[38;5;241m=\u001b[39m year \n\u001b[1;32m     17\u001b[0m \u001b[38;5;28mself\u001b[39m\u001b[38;5;241m.\u001b[39mmonths_years \u001b[38;5;241m=\u001b[39m \u001b[38;5;28mself\u001b[39m\u001b[38;5;241m.\u001b[39m_month_year_parser()\n\u001b[0;32m---> 18\u001b[0m \u001b[38;5;28mself\u001b[39m\u001b[38;5;241m.\u001b[39mdata_parser \u001b[38;5;241m=\u001b[39m \u001b[38;5;28;43mself\u001b[39;49m\u001b[38;5;241;43m.\u001b[39;49m\u001b[43m_parse_data\u001b[49m\u001b[43m(\u001b[49m\n\u001b[1;32m     19\u001b[0m \u001b[43m    \u001b[49m\u001b[43mmonth\u001b[49m\u001b[38;5;241;43m=\u001b[39;49m\u001b[38;5;28;43mself\u001b[39;49m\u001b[38;5;241;43m.\u001b[39;49m\u001b[43mmonth\u001b[49m\u001b[43m,\u001b[49m\u001b[43m \u001b[49m\u001b[43myear\u001b[49m\u001b[38;5;241;43m=\u001b[39;49m\u001b[38;5;28;43mself\u001b[39;49m\u001b[38;5;241;43m.\u001b[39;49m\u001b[43myear\u001b[49m\u001b[43m,\u001b[49m\n\u001b[1;32m     20\u001b[0m \u001b[43m\u001b[49m\u001b[43m)\u001b[49m\n\u001b[1;32m     21\u001b[0m \u001b[38;5;28mself\u001b[39m\u001b[38;5;241m.\u001b[39mall_paths \u001b[38;5;241m=\u001b[39m \u001b[38;5;28mself\u001b[39m\u001b[38;5;241m.\u001b[39m_get_all_paths()\n\u001b[1;32m     22\u001b[0m \u001b[38;5;28mself\u001b[39m\u001b[38;5;241m.\u001b[39mmonthly_urls \u001b[38;5;241m=\u001b[39m \u001b[38;5;28mself\u001b[39m\u001b[38;5;241m.\u001b[39m_get_monthly_indices()\n",
      "File \u001b[0;32m~/Desktop/CC_project/tutorial_following_pakk/scripts/columnar_explorer.py:102\u001b[0m, in \u001b[0;36mColumnarExplorer._parse_data\u001b[0;34m(self, month, year)\u001b[0m\n\u001b[1;32m    100\u001b[0m         \u001b[38;5;28;01mbreak\u001b[39;00m\n\u001b[1;32m    101\u001b[0m \u001b[38;5;28;01melse\u001b[39;00m:\n\u001b[0;32m--> 102\u001b[0m     \u001b[38;5;28;01mraise\u001b[39;00m \u001b[38;5;167;01mValueError\u001b[39;00m(\u001b[38;5;124mf\u001b[39m\u001b[38;5;124m\"\u001b[39m\u001b[38;5;124mNo matching entry found for \u001b[39m\u001b[38;5;132;01m{\u001b[39;00mmonth\u001b[38;5;132;01m}\u001b[39;00m\u001b[38;5;124m \u001b[39m\u001b[38;5;132;01m{\u001b[39;00myear\u001b[38;5;132;01m}\u001b[39;00m\u001b[38;5;124m\"\u001b[39m)\n\u001b[1;32m    103\u001b[0m \u001b[38;5;28;01mreturn\u001b[39;00m extracted_name\n",
      "\u001b[0;31mValueError\u001b[0m: No matching entry found for August 2023"
     ]
    }
   ],
   "source": [
    "non_existant_columnar_explorer = ColumnarExplorer('August', '2023')"
   ]
  },
  {
   "cell_type": "markdown",
   "metadata": {},
   "source": [
    "# Parquet files can be accessed via the monthly_urls method"
   ]
  },
  {
   "cell_type": "code",
   "execution_count": 3,
   "metadata": {},
   "outputs": [],
   "source": [
    "monthly_crawl = trial_columnar_explorer.monthly_urls"
   ]
  },
  {
   "cell_type": "code",
   "execution_count": 6,
   "metadata": {},
   "outputs": [
    {
     "name": "stdout",
     "output_type": "stream",
     "text": [
      "['https://data.commoncrawl.org/cc-index/table/cc-main/warc/crawl=CC-MAIN-2023-40/', 'https://data.commoncrawl.org/cc-index/table/cc-main/warc/crawl=CC-MAIN-2023-40/subset=crawldiagnostics/part-00000-7aa0a1e5-33a6-434b-89a2-950f294b40c1.c000.gz.parquet', 'https://data.commoncrawl.org/cc-index/table/cc-main/warc/crawl=CC-MAIN-2023-40/subset=crawldiagnostics/part-00001-7aa0a1e5-33a6-434b-89a2-950f294b40c1.c000.gz.parquet', 'https://data.commoncrawl.org/cc-index/table/cc-main/warc/crawl=CC-MAIN-2023-40/subset=crawldiagnostics/part-00002-7aa0a1e5-33a6-434b-89a2-950f294b40c1.c000.gz.parquet', 'https://data.commoncrawl.org/cc-index/table/cc-main/warc/crawl=CC-MAIN-2023-40/subset=crawldiagnostics/part-00003-7aa0a1e5-33a6-434b-89a2-950f294b40c1.c000.gz.parquet', 'https://data.commoncrawl.org/cc-index/table/cc-main/warc/crawl=CC-MAIN-2023-40/subset=crawldiagnostics/part-00004-7aa0a1e5-33a6-434b-89a2-950f294b40c1.c000.gz.parquet', 'https://data.commoncrawl.org/cc-index/table/cc-main/warc/crawl=CC-MAIN-2023-40/subset=crawldiagnostics/part-00005-7aa0a1e5-33a6-434b-89a2-950f294b40c1.c000.gz.parquet', 'https://data.commoncrawl.org/cc-index/table/cc-main/warc/crawl=CC-MAIN-2023-40/subset=crawldiagnostics/part-00006-7aa0a1e5-33a6-434b-89a2-950f294b40c1.c000.gz.parquet', 'https://data.commoncrawl.org/cc-index/table/cc-main/warc/crawl=CC-MAIN-2023-40/subset=crawldiagnostics/part-00007-7aa0a1e5-33a6-434b-89a2-950f294b40c1.c000.gz.parquet', 'https://data.commoncrawl.org/cc-index/table/cc-main/warc/crawl=CC-MAIN-2023-40/subset=crawldiagnostics/part-00008-7aa0a1e5-33a6-434b-89a2-950f294b40c1.c000.gz.parquet']\n"
     ]
    }
   ],
   "source": [
    "print(monthly_crawl[0:10])"
   ]
  },
  {
   "cell_type": "code",
   "execution_count": 4,
   "metadata": {},
   "outputs": [
    {
     "data": {
      "text/plain": "901"
     },
     "execution_count": 4,
     "metadata": {},
     "output_type": "execute_result"
    }
   ],
   "source": [
    "len(monthly_crawl)"
   ]
  },
  {
   "cell_type": "code",
   "execution_count": null,
   "metadata": {},
   "outputs": [],
   "source": []
  }
 ],
 "metadata": {
  "kernelspec": {
   "display_name": "Python 3.10.8 64-bit ('common_crawl': conda)",
   "name": "python3108jvsc74a57bd0c3031ed7de4768595286825fef15184613b7776b85109d29ac137d0da56e9c90"
  },
  "language_info": {
   "codemirror_mode": {
    "name": "ipython",
    "version": 3
   },
   "file_extension": ".py",
   "mimetype": "text/x-python",
   "name": "python",
   "nbconvert_exporter": "python",
   "pygments_lexer": "ipython3",
   "version": "3.10.8"
  },
  "orig_nbformat": 2
 },
 "nbformat": 4,
 "nbformat_minor": 2
}