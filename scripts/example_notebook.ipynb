{
 "cells": [
  {
   "cell_type": "code",
   "execution_count": 3,
   "metadata": {},
   "outputs": [],
   "source": [
    "import utils\n",
    "from process_warc_files import CCFiles\n",
    "from columnar_explorer import ColumnarExplorer"
   ]
  },
  {
   "cell_type": "markdown",
   "metadata": {},
   "source": [
    "# Find the working path for a month and year"
   ]
  },
  {
   "cell_type": "code",
   "execution_count": 22,
   "metadata": {},
   "outputs": [
    {
     "name": "stdout",
     "output_type": "stream",
     "text": [
      "CC-MAIN-2023-40\n",
      "https://data.commoncrawl.org/crawl-data/CC-MAIN-2023-40/cc-index-table.paths.gz\n"
     ]
    }
   ],
   "source": [
    "trial_columnar_explorer = ColumnarExplorer('September', '2023')"
   ]
  },
  {
   "cell_type": "markdown",
   "metadata": {},
   "source": [
    "# Some months are stored together! ColumnarExplorer is robust to that: "
   ]
  },
  {
   "cell_type": "code",
   "execution_count": 23,
   "metadata": {},
   "outputs": [
    {
     "name": "stdout",
     "output_type": "stream",
     "text": [
      "CC-MAIN-2023-40\n",
      "https://data.commoncrawl.org/crawl-data/CC-MAIN-2023-40/cc-index-table.paths.gz\n"
     ]
    }
   ],
   "source": [
    "trial_columnar_explorer_following_month = ColumnarExplorer('October', '2023')"
   ]
  },
  {
   "cell_type": "markdown",
   "metadata": {},
   "source": [
    "# Some months are not collected by Common Crawl :("
   ]
  },
  {
   "cell_type": "code",
   "execution_count": 10,
   "metadata": {},
   "outputs": [
    {
     "ename": "ValueError",
     "evalue": "No matching entry found for August 2023",
     "output_type": "error",
     "traceback": [
      "\u001b[0;31m---------------------------------------------------------------------------\u001b[0m",
      "\u001b[0;31mValueError\u001b[0m                                Traceback (most recent call last)",
      "Cell \u001b[0;32mIn[10], line 1\u001b[0m\n\u001b[0;32m----> 1\u001b[0m non_existant_columnar_explorer \u001b[38;5;241m=\u001b[39m \u001b[43mColumnarExplorer\u001b[49m\u001b[43m(\u001b[49m\u001b[38;5;124;43m'\u001b[39;49m\u001b[38;5;124;43mAugust\u001b[39;49m\u001b[38;5;124;43m'\u001b[39;49m\u001b[43m,\u001b[49m\u001b[43m \u001b[49m\u001b[38;5;124;43m'\u001b[39;49m\u001b[38;5;124;43m2023\u001b[39;49m\u001b[38;5;124;43m'\u001b[39;49m\u001b[43m)\u001b[49m\n",
      "File \u001b[0;32m~/Desktop/CC_project/tutorial_following_pakk/scripts/columnar_explorer.py:18\u001b[0m, in \u001b[0;36mColumnarExplorer.__init__\u001b[0;34m(self, month, year)\u001b[0m\n\u001b[1;32m     16\u001b[0m \u001b[38;5;28mself\u001b[39m\u001b[38;5;241m.\u001b[39myear \u001b[38;5;241m=\u001b[39m year \n\u001b[1;32m     17\u001b[0m \u001b[38;5;28mself\u001b[39m\u001b[38;5;241m.\u001b[39mmonths_years \u001b[38;5;241m=\u001b[39m \u001b[38;5;28mself\u001b[39m\u001b[38;5;241m.\u001b[39m_month_year_parser()\n\u001b[0;32m---> 18\u001b[0m \u001b[38;5;28mself\u001b[39m\u001b[38;5;241m.\u001b[39mdata_parser \u001b[38;5;241m=\u001b[39m \u001b[38;5;28;43mself\u001b[39;49m\u001b[38;5;241;43m.\u001b[39;49m\u001b[43m_parse_data\u001b[49m\u001b[43m(\u001b[49m\n\u001b[1;32m     19\u001b[0m \u001b[43m    \u001b[49m\u001b[43mmonth\u001b[49m\u001b[38;5;241;43m=\u001b[39;49m\u001b[38;5;28;43mself\u001b[39;49m\u001b[38;5;241;43m.\u001b[39;49m\u001b[43mmonth\u001b[49m\u001b[43m,\u001b[49m\u001b[43m \u001b[49m\u001b[43myear\u001b[49m\u001b[38;5;241;43m=\u001b[39;49m\u001b[38;5;28;43mself\u001b[39;49m\u001b[38;5;241;43m.\u001b[39;49m\u001b[43myear\u001b[49m\u001b[43m,\u001b[49m\n\u001b[1;32m     20\u001b[0m \u001b[43m\u001b[49m\u001b[43m)\u001b[49m\n\u001b[1;32m     21\u001b[0m \u001b[38;5;28mself\u001b[39m\u001b[38;5;241m.\u001b[39mall_paths \u001b[38;5;241m=\u001b[39m \u001b[38;5;28mself\u001b[39m\u001b[38;5;241m.\u001b[39m_get_all_paths()\n\u001b[1;32m     22\u001b[0m \u001b[38;5;28mself\u001b[39m\u001b[38;5;241m.\u001b[39mmonthly_urls \u001b[38;5;241m=\u001b[39m \u001b[38;5;28mself\u001b[39m\u001b[38;5;241m.\u001b[39m_get_monthly_indices()\n",
      "File \u001b[0;32m~/Desktop/CC_project/tutorial_following_pakk/scripts/columnar_explorer.py:102\u001b[0m, in \u001b[0;36mColumnarExplorer._parse_data\u001b[0;34m(self, month, year)\u001b[0m\n\u001b[1;32m    100\u001b[0m         \u001b[38;5;28;01mbreak\u001b[39;00m\n\u001b[1;32m    101\u001b[0m \u001b[38;5;28;01melse\u001b[39;00m:\n\u001b[0;32m--> 102\u001b[0m     \u001b[38;5;28;01mraise\u001b[39;00m \u001b[38;5;167;01mValueError\u001b[39;00m(\u001b[38;5;124mf\u001b[39m\u001b[38;5;124m\"\u001b[39m\u001b[38;5;124mNo matching entry found for \u001b[39m\u001b[38;5;132;01m{\u001b[39;00mmonth\u001b[38;5;132;01m}\u001b[39;00m\u001b[38;5;124m \u001b[39m\u001b[38;5;132;01m{\u001b[39;00myear\u001b[38;5;132;01m}\u001b[39;00m\u001b[38;5;124m\"\u001b[39m)\n\u001b[1;32m    103\u001b[0m \u001b[38;5;28;01mreturn\u001b[39;00m extracted_name\n",
      "\u001b[0;31mValueError\u001b[0m: No matching entry found for August 2023"
     ]
    }
   ],
   "source": [
    "non_existant_columnar_explorer = ColumnarExplorer('August', '2023')"
   ]
  },
  {
   "cell_type": "markdown",
   "metadata": {},
   "source": [
    "# Parquet files can be accessed via the monthly_urls method"
   ]
  },
  {
   "cell_type": "code",
   "execution_count": 11,
   "metadata": {},
   "outputs": [],
   "source": [
    "monthly_crawl = trial_columnar_explorer.monthly_urls"
   ]
  },
  {
   "cell_type": "code",
   "execution_count": 12,
   "metadata": {},
   "outputs": [
    {
     "name": "stdout",
     "output_type": "stream",
     "text": [
      "['https://data.commoncrawl.org/cc-index/table/cc-main/warc/crawl=CC-MAIN-2023-40/', 'https://data.commoncrawl.org/cc-index/table/cc-main/warc/crawl=CC-MAIN-2023-40/subset=crawldiagnostics/part-00000-7aa0a1e5-33a6-434b-89a2-950f294b40c1.c000.gz.parquet', 'https://data.commoncrawl.org/cc-index/table/cc-main/warc/crawl=CC-MAIN-2023-40/subset=crawldiagnostics/part-00001-7aa0a1e5-33a6-434b-89a2-950f294b40c1.c000.gz.parquet', 'https://data.commoncrawl.org/cc-index/table/cc-main/warc/crawl=CC-MAIN-2023-40/subset=crawldiagnostics/part-00002-7aa0a1e5-33a6-434b-89a2-950f294b40c1.c000.gz.parquet', 'https://data.commoncrawl.org/cc-index/table/cc-main/warc/crawl=CC-MAIN-2023-40/subset=crawldiagnostics/part-00003-7aa0a1e5-33a6-434b-89a2-950f294b40c1.c000.gz.parquet', 'https://data.commoncrawl.org/cc-index/table/cc-main/warc/crawl=CC-MAIN-2023-40/subset=crawldiagnostics/part-00004-7aa0a1e5-33a6-434b-89a2-950f294b40c1.c000.gz.parquet', 'https://data.commoncrawl.org/cc-index/table/cc-main/warc/crawl=CC-MAIN-2023-40/subset=crawldiagnostics/part-00005-7aa0a1e5-33a6-434b-89a2-950f294b40c1.c000.gz.parquet', 'https://data.commoncrawl.org/cc-index/table/cc-main/warc/crawl=CC-MAIN-2023-40/subset=crawldiagnostics/part-00006-7aa0a1e5-33a6-434b-89a2-950f294b40c1.c000.gz.parquet', 'https://data.commoncrawl.org/cc-index/table/cc-main/warc/crawl=CC-MAIN-2023-40/subset=crawldiagnostics/part-00007-7aa0a1e5-33a6-434b-89a2-950f294b40c1.c000.gz.parquet', 'https://data.commoncrawl.org/cc-index/table/cc-main/warc/crawl=CC-MAIN-2023-40/subset=crawldiagnostics/part-00008-7aa0a1e5-33a6-434b-89a2-950f294b40c1.c000.gz.parquet']\n"
     ]
    }
   ],
   "source": [
    "print(monthly_crawl[0:10])"
   ]
  },
  {
   "cell_type": "code",
   "execution_count": 13,
   "metadata": {},
   "outputs": [
    {
     "data": {
      "text/plain": "901"
     },
     "execution_count": 13,
     "metadata": {},
     "output_type": "execute_result"
    }
   ],
   "source": [
    "len(monthly_crawl)"
   ]
  },
  {
   "cell_type": "markdown",
   "metadata": {},
   "source": [
    "# Once the columnar data is donwloaded, we can process them using the CCFiles class "
   ]
  },
  {
   "cell_type": "code",
   "execution_count": 14,
   "metadata": {},
   "outputs": [],
   "source": [
    "file_explorer = CCFiles('/Users/gocchini/Desktop/CC_project/tutorial_following_pakk')"
   ]
  },
  {
   "cell_type": "markdown",
   "metadata": {},
   "source": [
    "# We can check the local authorities for which we have a shapefile, and for which we can do some visualisation (yet to implement)"
   ]
  },
  {
   "cell_type": "code",
   "execution_count": 15,
   "metadata": {},
   "outputs": [
    {
     "data": {
      "text/plain": "['bristol', 'London']"
     },
     "execution_count": 15,
     "metadata": {},
     "output_type": "execute_result"
    }
   ],
   "source": [
    "file_explorer.geographies"
   ]
  },
  {
   "cell_type": "markdown",
   "metadata": {},
   "source": [
    "# And we can check all the local authorities avalable for processing "
   ]
  },
  {
   "cell_type": "code",
   "execution_count": 16,
   "metadata": {},
   "outputs": [
    {
     "data": {
      "text/plain": "['Barking and Dagenham',\n 'Bath and North East Somerset',\n 'Bedfordshire',\n 'Berkshire',\n 'Bexley',\n 'Blackburn with Darwen',\n 'Bournemouth',\n 'Brent',\n 'Brighton and Hove',\n 'Bristol',\n 'Bromley',\n 'Buckinghamshire',\n 'Cambridgeshire',\n 'Camden',\n 'Cheshire',\n 'Cornwall',\n 'Croydon',\n 'Cumbria',\n 'Darlington',\n 'Derbyshire',\n 'Derby',\n 'Devon',\n 'Dorset',\n 'Durham',\n 'Ealing',\n 'East Riding of Yorkshire',\n 'East Sussex',\n 'Enfield',\n 'Essex',\n 'Gloucestershire',\n 'Greenwich',\n 'Hackney',\n 'Halton',\n 'Hammersmith and Fulham',\n 'Hampshire',\n 'Haringey',\n 'Harrow',\n 'Hartlepool',\n 'Havering',\n 'Herefordshire',\n 'Hertfordshire',\n 'Hillingdon',\n 'Hounslow',\n 'Isle of Wight',\n 'Islington',\n 'Kensington and Chelsea',\n 'Kent',\n 'Kingston upon Hull',\n 'Kingston upon Thames',\n 'Lambeth',\n 'Lancashire',\n 'Leicestershire',\n 'Leicester',\n 'Lewisham',\n 'Lincolnshire',\n 'London',\n 'Luton',\n 'Manchester',\n 'Medway',\n 'Merseyside',\n 'Merton',\n 'Middlesbrough',\n 'Milton Keynes',\n 'Newham',\n 'Norfolk',\n 'North East Lincolnshire',\n 'North Lincolnshire',\n 'North Somerset',\n 'North Yorkshire',\n 'Northamptonshire',\n 'Northumberland',\n 'Nottinghamshire',\n 'Nottingham',\n 'Oxfordshire',\n 'Peterborough',\n 'Plymouth',\n 'Poole',\n 'Portsmouth',\n 'Redbridge',\n 'Redcar and Cleveland',\n 'Richmond upon Thames',\n 'Rutland',\n 'Shropshire',\n 'Somerset',\n 'South Gloucestershire',\n 'South Yorkshire',\n 'Southampton',\n 'Southend-on-Sea',\n 'Southwark',\n 'Staffordshire',\n 'Stockton-on-Tees',\n 'Stoke-on-Trent',\n 'Suffolk',\n 'Surrey',\n 'Sutton',\n 'Swindon',\n 'Telford and Wrekin',\n 'Thurrock',\n 'Torbay',\n 'Tower Hamlets',\n 'Tyne and Wear',\n 'Waltham Forest',\n 'Wandsworth',\n 'Warrington',\n 'Warwickshire',\n 'West Midlands',\n 'West Sussex',\n 'West Yorkshire',\n 'Westminster',\n 'Wiltshire',\n 'Worcestershire',\n 'York',\n 'Antrim',\n 'Ards',\n 'Armagh',\n 'Ballymena',\n 'Ballymoney',\n 'Banbridge',\n 'Belfast',\n 'Carrickfergus',\n 'Castlereagh',\n 'Coleraine',\n 'Cookstown',\n 'Craigavon',\n 'Derry',\n 'Down',\n 'Dungannon',\n 'Fermanagh',\n 'Larne',\n 'Limavady',\n 'Lisburn',\n 'Magherafelt',\n 'Moyle',\n 'Newry and Mourne',\n 'Newtownabbey',\n 'North Down',\n 'Omagh',\n 'Strabane',\n 'Aberdeenshire',\n 'Aberdeen',\n 'Angus',\n 'Argyll and Bute',\n 'Clackmannanshire',\n 'Dumfries and Galloway',\n 'Dundee',\n 'East Ayrshire',\n 'East Dunbartonshire',\n 'East Lothian',\n 'East Renfrewshire',\n 'Edinburgh',\n 'Eilean Siar',\n 'Falkirk',\n 'Fife',\n 'Glasgow',\n 'Highland',\n 'Inverclyde',\n 'Midlothian',\n 'Moray',\n 'North Ayshire',\n 'North Lanarkshire',\n 'Orkney Islands',\n 'Perthshire and Kinross',\n 'Renfrewshire',\n 'Scottish Borders',\n 'Shetland Islands',\n 'South Ayrshire',\n 'South Lanarkshire',\n 'Stirling',\n 'West Dunbartonshire',\n 'West Lothian',\n 'Anglesey',\n 'Blaenau Gwent',\n 'Bridgend',\n 'Caerphilly',\n 'Cardiff',\n 'Carmarthenshire',\n 'Ceredigion',\n 'Conwy',\n 'Denbighshire',\n 'Flintshire',\n 'Gwynedd',\n 'Merthyr Tydfil',\n 'Monmouthshire',\n 'Neath Port Talbot',\n 'Newport',\n 'Pembrokeshire',\n 'Powys',\n 'Rhondda, Cynon, Taff',\n 'Swansea',\n 'Torfaen',\n 'Vale of Glamorgan',\n 'Wrexham']"
     },
     "execution_count": 16,
     "metadata": {},
     "output_type": "execute_result"
    }
   ],
   "source": [
    "file_explorer.all_geographies"
   ]
  },
  {
   "cell_type": "markdown",
   "metadata": {},
   "source": [
    "# To extract postcodes, one needs to use the postcode of a specific local authorithy, which is accessed via: "
   ]
  },
  {
   "cell_type": "code",
   "execution_count": 17,
   "metadata": {},
   "outputs": [
    {
     "data": {
      "text/plain": "'EH'"
     },
     "execution_count": 17,
     "metadata": {},
     "output_type": "execute_result"
    }
   ],
   "source": [
    "file_explorer.postcodes_la.get('Edinburgh')"
   ]
  },
  {
   "cell_type": "markdown",
   "metadata": {},
   "source": [
    "# To extract postcodes and text, you can call the get method on the CCFiles object"
   ]
  },
  {
   "cell_type": "code",
   "execution_count": 18,
   "metadata": {},
   "outputs": [
    {
     "name": "stdout",
     "output_type": "stream",
     "text": [
      "conversion\n",
      "done\n"
     ]
    },
    {
     "name": "stderr",
     "output_type": "stream",
     "text": [
      "llama_model_loader: loaded meta data with 19 key-value pairs and 363 tensors from /Users/gocchini/Downloads/llama-2-13b-chat.Q4_K_M.gguf (version GGUF V2)\n",
      "llama_model_loader: Dumping metadata keys/values. Note: KV overrides do not apply in this output.\n",
      "llama_model_loader: - kv   0:                       general.architecture str              = llama\n",
      "llama_model_loader: - kv   1:                               general.name str              = LLaMA v2\n",
      "llama_model_loader: - kv   2:                       llama.context_length u32              = 4096\n",
      "llama_model_loader: - kv   3:                     llama.embedding_length u32              = 5120\n",
      "llama_model_loader: - kv   4:                          llama.block_count u32              = 40\n",
      "llama_model_loader: - kv   5:                  llama.feed_forward_length u32              = 13824\n",
      "llama_model_loader: - kv   6:                 llama.rope.dimension_count u32              = 128\n",
      "llama_model_loader: - kv   7:                 llama.attention.head_count u32              = 40\n",
      "llama_model_loader: - kv   8:              llama.attention.head_count_kv u32              = 40\n",
      "llama_model_loader: - kv   9:     llama.attention.layer_norm_rms_epsilon f32              = 0.000010\n",
      "llama_model_loader: - kv  10:                          general.file_type u32              = 15\n",
      "llama_model_loader: - kv  11:                       tokenizer.ggml.model str              = llama\n",
      "llama_model_loader: - kv  12:                      tokenizer.ggml.tokens arr[str,32000]   = [\"<unk>\", \"<s>\", \"</s>\", \"<0x00>\", \"<...\n",
      "llama_model_loader: - kv  13:                      tokenizer.ggml.scores arr[f32,32000]   = [0.000000, 0.000000, 0.000000, 0.0000...\n",
      "llama_model_loader: - kv  14:                  tokenizer.ggml.token_type arr[i32,32000]   = [2, 3, 3, 6, 6, 6, 6, 6, 6, 6, 6, 6, ...\n",
      "llama_model_loader: - kv  15:                tokenizer.ggml.bos_token_id u32              = 1\n",
      "llama_model_loader: - kv  16:                tokenizer.ggml.eos_token_id u32              = 2\n",
      "llama_model_loader: - kv  17:            tokenizer.ggml.unknown_token_id u32              = 0\n",
      "llama_model_loader: - kv  18:               general.quantization_version u32              = 2\n",
      "llama_model_loader: - type  f32:   81 tensors\n",
      "llama_model_loader: - type q4_K:  241 tensors\n",
      "llama_model_loader: - type q6_K:   41 tensors\n",
      "llm_load_vocab: special tokens definition check successful ( 259/32000 ).\n",
      "llm_load_print_meta: format           = GGUF V2\n",
      "llm_load_print_meta: arch             = llama\n",
      "llm_load_print_meta: vocab type       = SPM\n",
      "llm_load_print_meta: n_vocab          = 32000\n",
      "llm_load_print_meta: n_merges         = 0\n",
      "llm_load_print_meta: n_ctx_train      = 4096\n",
      "llm_load_print_meta: n_embd           = 5120\n",
      "llm_load_print_meta: n_head           = 40\n",
      "llm_load_print_meta: n_head_kv        = 40\n",
      "llm_load_print_meta: n_layer          = 40\n",
      "llm_load_print_meta: n_rot            = 128\n",
      "llm_load_print_meta: n_gqa            = 1\n",
      "llm_load_print_meta: f_norm_eps       = 0.0e+00\n",
      "llm_load_print_meta: f_norm_rms_eps   = 1.0e-05\n",
      "llm_load_print_meta: f_clamp_kqv      = 0.0e+00\n",
      "llm_load_print_meta: f_max_alibi_bias = 0.0e+00\n",
      "llm_load_print_meta: n_ff             = 13824\n",
      "llm_load_print_meta: n_expert         = 0\n",
      "llm_load_print_meta: n_expert_used    = 0\n",
      "llm_load_print_meta: rope scaling     = linear\n",
      "llm_load_print_meta: freq_base_train  = 10000.0\n",
      "llm_load_print_meta: freq_scale_train = 1\n",
      "llm_load_print_meta: n_yarn_orig_ctx  = 4096\n",
      "llm_load_print_meta: rope_finetuned   = unknown\n",
      "llm_load_print_meta: model type       = 13B\n",
      "llm_load_print_meta: model ftype      = Q4_K - Medium\n",
      "llm_load_print_meta: model params     = 13.02 B\n",
      "llm_load_print_meta: model size       = 7.33 GiB (4.83 BPW) \n",
      "llm_load_print_meta: general.name     = LLaMA v2\n",
      "llm_load_print_meta: BOS token        = 1 '<s>'\n",
      "llm_load_print_meta: EOS token        = 2 '</s>'\n",
      "llm_load_print_meta: UNK token        = 0 '<unk>'\n",
      "llm_load_print_meta: LF token         = 13 '<0x0A>'\n",
      "llm_load_tensors: ggml ctx size       =    0.14 MiB\n",
      "llm_load_tensors: system memory used  = 7500.99 MiB\n",
      "....................................................................................................\n",
      "llama_new_context_with_model: n_ctx      = 512\n",
      "llama_new_context_with_model: freq_base  = 10000.0\n",
      "llama_new_context_with_model: freq_scale = 1\n",
      "llama_new_context_with_model: KV self size  =  400.00 MiB, K (f16):  200.00 MiB, V (f16):  200.00 MiB\n",
      "llama_build_graph: non-view tensors processed: 844/844\n",
      "AVX = 1 | AVX2 = 1 | AVX512 = 0 | AVX512_VBMI = 0 | AVX512_VNNI = 0 | FMA = 1 | NEON = 0 | ARM_FMA = 0 | F16C = 1 | FP16_VA = 0 | WASM_SIMD = 0 | BLAS = 1 | SSE3 = 1 | SSSE3 = 1 | VSX = 0 | \n",
      "llama_new_context_with_model: compute buffer total size = 78.19 MiB\n",
      "\n",
      "llama_print_timings:        load time =   80847.78 ms\n",
      "llama_print_timings:      sample time =      64.37 ms /   129 runs   (    0.50 ms per token,  2004.01 tokens per second)\n",
      "llama_print_timings: prompt eval time =   80846.93 ms /   189 tokens (  427.76 ms per token,     2.34 tokens per second)\n",
      "llama_print_timings:        eval time =   57135.99 ms /   128 runs   (  446.37 ms per token,     2.24 tokens per second)\n",
      "llama_print_timings:       total time =  138599.16 ms\n"
     ]
    }
   ],
   "source": [
    "example_extraction = file_explorer.get('Edinburgh', industry_class=True)"
   ]
  },
  {
   "cell_type": "code",
   "execution_count": 20,
   "metadata": {},
   "outputs": [
    {
     "data": {
      "text/plain": "'Tell me what product this company sells in less than 100 words:00 - Index page\\n00\\nRandomness\\nSkip to content\\nSearch\\nAdvanced search\\nQuick links\\nUnanswered topics\\nActive topics\\nSearch\\nForums\\nFAQ\\nLogin\\nRegister\\nSearch\\nLogin\\nRegister\\nBoard index\\nSearch\\nIt is currently Fri Aug 19, 2022 2:13 am\\nAll times are UTC\\nWelcome\\nTopics\\nPosts\\nLast post\\nSpigot Minecraft server\\nSpigot Minecraft server\\nSubforum:\\nSpigot 1.8.8 Plugins\\t\\nTopics: 2\\nLast post: Minecraft Server build - Ubun… by 00, Sun Aug 02, 2020 5:38 pm\\n2 Topics\\nMinecraft server builds\\t\\nTopics: 1\\nLast post: Hello! by 00, Thu Jul 23, 2020 7:34 pm\\n1 Topic\\nSpigot Plugin Development\\t\\nTopics: 5\\nLast post: How to make a custom plugin\\tby 00, Sat Apr 18, 2020 4:36 pm\\n5 Topics\\nTotal posts: 7\\nTotal topics: 8\\nThe company sells: Minecraft server builds and Spigot Plugin Development.'"
     },
     "execution_count": 20,
     "metadata": {},
     "output_type": "execute_result"
    }
   ],
   "source": [
    "example_extraction['class'][0]"
   ]
  },
  {
   "cell_type": "markdown",
   "metadata": {},
   "source": []
  },
  {
   "cell_type": "code",
   "execution_count": null,
   "metadata": {},
   "outputs": [],
   "source": []
  },
  {
   "cell_type": "code",
   "execution_count": null,
   "metadata": {},
   "outputs": [],
   "source": []
  }
 ],
 "metadata": {
  "kernelspec": {
   "display_name": "Python 3.10.8 64-bit ('common_crawl': conda)",
   "name": "python3108jvsc74a57bd0c3031ed7de4768595286825fef15184613b7776b85109d29ac137d0da56e9c90"
  },
  "language_info": {
   "codemirror_mode": {
    "name": "ipython",
    "version": 3
   },
   "file_extension": ".py",
   "mimetype": "text/x-python",
   "name": "python",
   "nbconvert_exporter": "python",
   "pygments_lexer": "ipython3",
   "version": "3.10.8"
  },
  "orig_nbformat": 2
 },
 "nbformat": 4,
 "nbformat_minor": 2
}